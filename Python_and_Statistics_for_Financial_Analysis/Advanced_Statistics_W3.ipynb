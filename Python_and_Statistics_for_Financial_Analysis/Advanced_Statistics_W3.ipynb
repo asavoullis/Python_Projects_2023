{
 "cells": [
  {
   "cell_type": "markdown",
   "metadata": {},
   "source": [
    "# Advanced Statistics\n",
    "\n",
    "- Population and Sample\n",
    "- Variation of Sample - Understand Distribution of Sample Mean\n",
    "- Confidence Interval - Estimate the average stock return\n",
    "- Hypothesis Testing - Validate the claim of average stock return"
   ]
  },
  {
   "cell_type": "markdown",
   "metadata": {},
   "source": [
    "We know that, when doing financial analysis, identifying important variables is important in helping us making better predictions and decisions. \n",
    "\n",
    "We have also learned the distribution of random variables. \n",
    "\n",
    "We learned how to apply normal distribution to model a stock return, and evaluate the risk of extreme events. \n",
    "\n",
    "In this topic, we will explain statistical inference, which is a core part of statistics. \n",
    "\n",
    "In financial analysis, we're concerned about characteristics of some targets called a population.\n",
    "\n",
    "For example, we want to make use of historical data of a couple years, called sample, to estimate the real mean return of some private equity funds.\n",
    "\n",
    "Sometimes, we also want to testify some claims. For example, if the fund managers claim that their investment strategy can generate 30% yearly return, we have to validate this claim using data of the last 20 years.\n",
    "\n",
    "These two applications are typical tasks of statistical inference to infer the promptings of interesting targets. \n",
    "\n",
    "- First, we will talk about population, samples and random sampling. \n",
    "- We will find out the distribution of sample mean. \n",
    "- We will learn how to use confidence interval to estimate population mean, for example, the average data return. \n",
    "- We will learn hypothesis testing, will be introduced and applied in validating some claims about the mean return."
   ]
  },
  {
   "cell_type": "markdown",
   "metadata": {},
   "source": [
    "## Population and Sample"
   ]
  },
  {
   "cell_type": "markdown",
   "metadata": {},
   "source": [
    "Population is a group of individuals who have something in common. \n",
    "\n",
    "We may be interested in some properties about a certain group, which we call target population, that cannot be observed completely. \n",
    "\n",
    "For example, all registered voters in Thailand, or all Hong Kong citizens who played golf at least once past year, or all neurons from your brain.\n",
    "\n",
    "Since we cannot get information for every individual of these populations, we have to take SAMPLE, which is a part of target population.\n",
    "\n",
    "Sample is a small group of population. It is a representative of the population, hence, it has to be randomly selected. This process is called random sampling."
   ]
  },
  {
   "cell_type": "markdown",
   "metadata": {},
   "source": [
    "Sampling:\n",
    "\n",
    "There are two kinds of sampling, called a sampling without replacement, or with replacement, depending on whether you put the select individuals back into population before you select the next one.\n",
    "\n",
    "In a sampling without replacement, an individual is randomly selected from the population. The next individual will be selected without putting the previous individual back.\n",
    "\n",
    "Every individual is selected from a different pool. If the population size is very large, this method is a factor because it can generate a random sample with different individuals.\n",
    "\n",
    "There is another kind of sampling method, sampling with replacement.\n",
    "\n",
    "A randomly selected individual will be put back before the next individual being selected. Hence, it is possible that the same individual can be selected more than once.\n",
    "\n",
    "When the population is small, this method can make sure that everyone in the population has the same chance being selected."
   ]
  },
  {
   "cell_type": "code",
   "execution_count": 1,
   "metadata": {},
   "outputs": [],
   "source": [
    "import numpy as np\n",
    "import pandas as pd\n",
    "import matplotlib.pyplot as plt\n",
    "import statsmodels \n",
    "from scipy.stats import norm\n",
    "# import os"
   ]
  },
  {
   "cell_type": "code",
   "execution_count": 2,
   "metadata": {},
   "outputs": [],
   "source": [
    "# Create a Population DataFrame with 10 data \n",
    "\n",
    "data = pd.DataFrame()\n",
    "data['Population'] = [47, 48, 85, 20, 19, 13, 72, 16, 50, 60]"
   ]
  },
  {
   "cell_type": "markdown",
   "metadata": {},
   "source": [
    "As you can see we got 48 twice"
   ]
  },
  {
   "cell_type": "code",
   "execution_count": 3,
   "metadata": {},
   "outputs": [
    {
     "name": "stdout",
     "output_type": "stream",
     "text": [
      "7    16\n",
      "8    50\n",
      "2    85\n",
      "3    20\n",
      "0    47\n",
      "Name: Population, dtype: int64\n"
     ]
    }
   ],
   "source": [
    "# Draw sample with replacement, size=5 from Population\n",
    "\n",
    "a_sample_with_replacement = data['Population'].sample(5, replace=True)\n",
    "print(a_sample_with_replacement)"
   ]
  },
  {
   "cell_type": "code",
   "execution_count": 4,
   "metadata": {},
   "outputs": [
    {
     "name": "stdout",
     "output_type": "stream",
     "text": [
      "4    19\n",
      "6    72\n",
      "7    16\n",
      "5    13\n",
      "0    47\n",
      "Name: Population, dtype: int64\n"
     ]
    }
   ],
   "source": [
    "# Draw sample without replacement, size=5 from Population\n",
    "\n",
    "a_sample_without_replacement = data['Population'].sample(5, replace=False)\n",
    "print(a_sample_without_replacement)"
   ]
  },
  {
   "cell_type": "markdown",
   "metadata": {},
   "source": [
    "### Parameters and Statistics\n",
    "\n",
    "Parameter is a characteristic or summary number of populations.\n",
    "Statistic is a characteristic or summary number of sample.\n",
    "\n",
    "Parameters:\n",
    "- Mean\n",
    "- Variance\n",
    "- Standard Deviation\n",
    "\n",
    "Statistics:\n",
    "- Sample Mean\n",
    "- Sample Variance\n",
    "- Sample Standard Deviation"
   ]
  },
  {
   "cell_type": "markdown",
   "metadata": {},
   "source": [
    "For example, mean, variance, standard deviation of population are characteristics of population.Once target populations are fixed, these summary numbers will not change.\n",
    "\n",
    "Sample also has mean, variance, and standard deviation, but their values changes in different samples, even if they are drawn from the same population."
   ]
  },
  {
   "cell_type": "markdown",
   "metadata": {},
   "source": [
    "### Population Parameters"
   ]
  },
  {
   "cell_type": "markdown",
   "metadata": {},
   "source": [
    "I apologize for the inconvenience. It seems that the markdown formatting might not be rendering properly for you. If you're still facing issues, here's a simplified version of the equations using standard text formatting:\n",
    "\n",
    "**Population Mean:**\n",
    "The population mean (μ) is calculated as the sum of all values in a population divided by the total number of values (N):\n",
    "\n",
    "μ = (x₁ + x₂ + ... + xₙ) / N\n",
    "\n",
    "**Population Variance:**\n",
    "The population variance (σ²) measures the average squared difference between each data point (xᵢ) and the population mean (μ):\n",
    "\n",
    "σ² = ((x₁ - μ)² + (x₂ - μ)² + ... + (xₙ - μ)²) / N\n",
    "\n",
    "**Population Standard Deviation:**\n",
    "The population standard deviation (σ) is the square root of the population variance. It represents the typical deviation of data points from the population mean:\n",
    "\n",
    "σ = √(((x₁ - μ)² + (x₂ - μ)² + ... + (xₙ - μ)²) / N)\n",
    "\n",
    "Feel free to copy and paste this text-based representation into your Jupyter Notebook. While it may not be as visually elegant as using LaTeX-based equations, it should still convey the formulas accurately."
   ]
  },
  {
   "cell_type": "code",
   "execution_count": 5,
   "metadata": {},
   "outputs": [
    {
     "name": "stdout",
     "output_type": "stream",
     "text": [
      "Population mean is  43.0\n",
      "Population variance is 571.8\n",
      "Population standard deviation is 23.912339910598458\n",
      "Population size is 10\n"
     ]
    }
   ],
   "source": [
    "# Calculate mean and variance\n",
    "population_mean = data['Population'].mean()\n",
    "population_var = data['Population'].var(ddof=0)\n",
    "population_std = data['Population'].std(ddof=0)\n",
    "population_size = data['Population'].shape[0]\n",
    "\n",
    "# NOTICE ddof = 0 Because we use N in population \n",
    "# Which means the denominator of the population variance is N, which is the number of the population\n",
    "\n",
    "print('Population mean is ', population_mean)\n",
    "print('Population variance is', population_var)\n",
    "print('Population standard deviation is', population_std)\n",
    "print('Population size is', population_size)"
   ]
  },
  {
   "cell_type": "markdown",
   "metadata": {},
   "source": [
    "### Sample Statistics"
   ]
  },
  {
   "cell_type": "markdown",
   "metadata": {},
   "source": [
    "Certainly! Here are the equations and formulas for sample mean, variance, and standard deviation, formatted in Jupyter Notebook Markdown:\n",
    "\n",
    "### Sample Mean:\n",
    "The sample mean (\\(\\bar{x}\\)) is the average of a set of data points.\n",
    "\n",
    "Equation:\n",
    "\n",
    "x̄ = (1 / n) * Σ(xᵢ)\n",
    "\n",
    "\n",
    "Where:\n",
    "- \\(\\bar{x}\\) is the sample mean.\n",
    "- \\(n\\) is the number of data points.\n",
    "- \\(x_i\\) represents each individual data point.\n",
    "\n",
    "### Sample Variance:\n",
    "The sample variance (\\(s^2\\)) measures the dispersion or spread of data points around the sample mean.\n",
    "\n",
    "Equation:\n",
    "\n",
    "s² = (1 / (n - 1)) * Σ(xᵢ - x̄)²\n",
    "\n",
    "\n",
    "Where:\n",
    "- \\(s^2\\) is the sample variance.\n",
    "- \\(n\\) is the number of data points.\n",
    "- \\(\\bar{x}\\) is the sample mean.\n",
    "- \\(x_i\\) represents each individual data point.\n",
    "\n",
    "### Sample Standard Deviation:\n",
    "The sample standard deviation (\\(s\\)) is the square root of the sample variance. It provides a measure of the average deviation of data points from the sample mean.\n",
    "\n",
    "Equation:\n",
    "\n",
    "s = √((1 / (n - 1)) * Σ(xᵢ - x̄)²)\n",
    "\n",
    "\n",
    "Where:\n",
    "- \\(s\\) is the sample standard deviation.\n",
    "- \\(n\\) is the number of data points.\n",
    "- \\(\\bar{x}\\) is the sample mean.\n",
    "- \\(x_i\\) represents each individual data point.\n",
    "\n",
    "Feel free to copy and paste these equations and formulas into your Jupyter Notebook Markdown cells. They should render as formatted equations when the Markdown is rendered."
   ]
  },
  {
   "cell_type": "markdown",
   "metadata": {},
   "source": [
    "Notice that when we compute a sample variance and std, we need the ddof equal to 1. \n",
    "\n",
    "It means the denominator of a sample variance has to be n-1 instead of n, which is the sample size."
   ]
  },
  {
   "cell_type": "code",
   "execution_count": 6,
   "metadata": {},
   "outputs": [
    {
     "name": "stdout",
     "output_type": "stream",
     "text": [
      "Sample mean is  47.4\n",
      "Sample variance is 860.7111111111112\n",
      "Sample standard deviation is 29.33787843575454\n",
      "Sample size is 10\n"
     ]
    }
   ],
   "source": [
    "# Calculate sample mean and sample standard deviation, size =10\n",
    "# You will get different mean and varince every time when you excecute the below code\n",
    "\n",
    "# with replacement\n",
    "a_sample = data['Population'].sample(10, replace=True)\n",
    "sample_mean = a_sample.mean()\n",
    "\n",
    "sample_var = a_sample.var(ddof=1)\n",
    "sample_std = a_sample.std(ddof=1)\n",
    "\n",
    "# Notice that when we compute a sample variance and std, we need the ddof equal to 1. \n",
    "# It means the denominator of a sample variance has to be n-1 instead of n, which is the sample size.\n",
    "\n",
    "sample_size = a_sample.shape[0]\n",
    "print('Sample mean is ', sample_mean)\n",
    "print('Sample variance is', sample_var)\n",
    "print('Sample standard deviation is', sample_std)\n",
    "print('Sample size is', sample_size)"
   ]
  },
  {
   "cell_type": "code",
   "execution_count": 7,
   "metadata": {},
   "outputs": [
    {
     "name": "stdout",
     "output_type": "stream",
     "text": [
      "Sample mean is  43.0\n",
      "Sample variance is 635.3333333333334\n",
      "Sample standard deviation is 25.20581943387942\n",
      "Sample size is 10\n"
     ]
    }
   ],
   "source": [
    "# Calculate sample mean and sample standard deviation, size =10\n",
    "# You will get different mean and varince every time when you excecute the below code\n",
    "\n",
    "# without replacement\n",
    "a_sample_2 = data['Population'].sample(10, replace=False)\n",
    "sample_mean_2 = a_sample_2.mean()\n",
    "\n",
    "sample_var_2 = a_sample_2.var(ddof=1)\n",
    "sample_std_2 = a_sample_2.std(ddof=1)\n",
    "\n",
    "sample_size_2 = a_sample_2.shape[0]\n",
    "print('Sample mean is ', sample_mean_2)\n",
    "print('Sample variance is', sample_var_2)\n",
    "print('Sample standard deviation is', sample_std_2)\n",
    "print('Sample size is', sample_size_2)"
   ]
  },
  {
   "cell_type": "markdown",
   "metadata": {},
   "source": [
    "### Average of an unbiased estimator"
   ]
  },
  {
   "cell_type": "markdown",
   "metadata": {},
   "source": [
    "To understand why the denominator of the sample variance is n-1, let us generate 500 samples, each sample with size equal to 50. \n",
    "\n",
    "We calculate sample variance for each sample using n and n-1 as denominators. \n",
    "\n",
    "You'll find that the real population variance is 571.8. \n",
    "\n",
    "As you can see, the average of sample variances using n-1 is closer to population variance than using n."
   ]
  },
  {
   "cell_type": "code",
   "execution_count": 8,
   "metadata": {},
   "outputs": [],
   "source": [
    "sample_length = 500\n",
    "sample_variance_collection0=[data['Population'].sample(50, replace=True).var(ddof=0) for i in range(sample_length)]\n",
    "sample_variance_collection1=[data['Population'].sample(50, replace=True).var(ddof=1) for i in range(sample_length)]"
   ]
  },
  {
   "cell_type": "markdown",
   "metadata": {},
   "source": [
    "You'll find that the real population variance is 571.8. \n",
    "\n",
    "As you can see, the average of sample variances using n-1 is closer to population variance than using n.\n",
    "\n",
    "\n",
    "The average of sample variance using n as denominator is always smaller than population variance. \n",
    "\n",
    "Which is some mathematical reasons. n-1, in fact, is called degrees of freedom. \n",
    "\n",
    "For sample variance, there is another explanation why sample variance is divided by n-1, which is the degrees of freedom. \n",
    "\n",
    "Degrees of freedom is a number of values used in calculation that are free to variate. \n",
    "\n",
    "When we use the sample mean to compute the sample variance, we will lose one degree of freedom.\n",
    "\n",
    "N = Degrees of freedom\n",
    "- The number of variables in calculation that are free to variate"
   ]
  },
  {
   "cell_type": "code",
   "execution_count": 9,
   "metadata": {},
   "outputs": [
    {
     "name": "stdout",
     "output_type": "stream",
     "text": [
      "Population variance is 571.8\n",
      "Average of sample variance 0 is 558.3136576\n",
      "Average of sample variance 1 is 572.9271910204081\n"
     ]
    }
   ],
   "source": [
    "print('Population variance is', data['Population'].var(ddof=0))\n",
    "print('Average of sample variance 0 is', pd.DataFrame(sample_variance_collection0)[0].mean())\n",
    "print('Average of sample variance 1 is', pd.DataFrame(sample_variance_collection1)[0].mean())"
   ]
  },
  {
   "cell_type": "markdown",
   "metadata": {},
   "source": [
    "When we compute the variance, using degrees of freedom is better than using sample size. \n",
    "\n",
    "In the sense that the average of estimator will be equal to population variance, which is called an unbiased estimator. \n",
    "\n",
    "In the next video, we will talk about distribution of sample statistics."
   ]
  },
  {
   "cell_type": "markdown",
   "metadata": {},
   "source": [
    "## Variation of Sample"
   ]
  },
  {
   "cell_type": "markdown",
   "metadata": {},
   "source": [
    "You can compute sample mean, and variance of stock return. \n",
    "\n",
    "Based on the statistics, can we show inference to the parameters? \n",
    "\n",
    "How close are the statistics to population parameters?"
   ]
  },
  {
   "cell_type": "markdown",
   "metadata": {},
   "source": [
    "By observing the stock data of 100 days, can we make a claim that this stock is in a upward trend? That is, mean for return is positive. All these rely on our understanding of sample mean distribution."
   ]
  },
  {
   "cell_type": "code",
   "execution_count": 10,
   "metadata": {},
   "outputs": [
    {
     "name": "stdout",
     "output_type": "stream",
     "text": [
      "sample mean is  11.174883038259358\n",
      "sample SD is  4.369541757140948\n"
     ]
    }
   ],
   "source": [
    "# Sample mean and SD keep changing, but always within a certain range\n",
    "Fstsample = pd.DataFrame(np.random.normal(10, 5, size=30))\n",
    "print('sample mean is ', Fstsample[0].mean())\n",
    "print('sample SD is ', Fstsample[0].std(ddof=1))"
   ]
  },
  {
   "cell_type": "markdown",
   "metadata": {},
   "source": [
    "If you run the above cell several times, you make a different result from there. \n",
    "\n",
    "It is because, the samples are randomly drawn from a normal distribution. \n",
    "\n",
    "Different samples will yield different means and standard deviation. This is called the variation of sample."
   ]
  },
  {
   "cell_type": "markdown",
   "metadata": {},
   "source": [
    "### Empirical Distribution of mean"
   ]
  },
  {
   "cell_type": "markdown",
   "metadata": {},
   "source": [
    "To see that, in this code, we generate 1,000 samples from the same population. \n",
    "\n",
    "We got mean and variance for each sample and saved in a DataFrame collection. \n",
    "\n",
    "Then, we will generate 1000 samples in a loop. \n",
    "\n",
    "For each sample, we compute the mean and variance and save them into meanlist and varlist. \n"
   ]
  },
  {
   "cell_type": "code",
   "execution_count": 11,
   "metadata": {},
   "outputs": [],
   "source": [
    "meanlist = []\n",
    "varlist = []\n",
    "for t in range(10000):\n",
    "    sample = pd.DataFrame(np.random.normal(10, 5, size=30))\n",
    "    meanlist.append(sample[0].mean())\n",
    "    varlist.append(sample[0].var(ddof=1))"
   ]
  },
  {
   "cell_type": "markdown",
   "metadata": {},
   "source": [
    "Finally, we build an empty DataFrame called collection, the same meanlist and varlist in different columns of this DataFrame. \n",
    "\n",
    "We can draw a histogram for the collection of sample means. It looks symmetric and like a normal distribution."
   ]
  },
  {
   "cell_type": "code",
   "execution_count": 12,
   "metadata": {},
   "outputs": [],
   "source": [
    "collection = pd.DataFrame()\n",
    "collection['meanlist'] = meanlist"
   ]
  },
  {
   "cell_type": "markdown",
   "metadata": {},
   "source": [
    "It looks symmetric and like a normal distribution. "
   ]
  },
  {
   "cell_type": "code",
   "execution_count": 13,
   "metadata": {},
   "outputs": [
    {
     "data": {
      "text/plain": [
       "<Axes: >"
      ]
     },
     "execution_count": 13,
     "metadata": {},
     "output_type": "execute_result"
    },
    {
     "data": {
      "image/png": "[encoded data removed]",
      "text/plain": [
       "<Figure size 1080x576 with 1 Axes>"
      ]
     },
     "metadata": {
      "needs_background": "light"
     },
     "output_type": "display_data"
    }
   ],
   "source": [
    "collection['meanlist'].hist(bins=100,figsize=(15,8))"
   ]
  },
  {
   "cell_type": "markdown",
   "metadata": {},
   "source": [
    "The histogram of sample variance is not normal as you can see it is right-skewed. "
   ]
  },
  {
   "cell_type": "code",
   "execution_count": 14,
   "metadata": {},
   "outputs": [
    {
     "data": {
      "text/plain": [
       "<Axes: >"
      ]
     },
     "execution_count": 14,
     "metadata": {},
     "output_type": "execute_result"
    },
    {
     "data": {
      "image/png": "[encoded data removed]",
      "text/plain": [
       "<Figure size 1080x576 with 1 Axes>"
      ]
     },
     "metadata": {
      "needs_background": "light"
     },
     "output_type": "display_data"
    }
   ],
   "source": [
    "collection['varlist'] = varlist\n",
    "collection['varlist'].hist(bins=500,figsize=(15,8))"
   ]
  },
  {
   "cell_type": "markdown",
   "metadata": {},
   "source": [
    "We can guess, in fact, we can mathematically prove that the sample mean has a normal distribution. \n",
    "\n",
    "If population is normal with mean equal to Mu and variance equal to sigma square, then the sample mean is also normal, with mean equal to Mu and variance equal to sigma square, divided by sample size N. \n",
    "\n",
    "Why variance of the sample mean is smaller than variance of a population? \n",
    "\n",
    "Intutionally, the sample mean is the average of N individuals of population, and hence the variation of sample mean is smaller than the variation of individuals in population.\n",
    "\n",
    "Population is normal N(μ,σ^2)\n",
    "\n",
    "Sample mean is also normal, N(μ,σ^2/n)\n",
    "\n",
    "Intutionally, the sample mean is the average of N individuals of population, and hence the variation of sample mean is smaller than the variation of individuals in population. "
   ]
  },
  {
   "cell_type": "code",
   "execution_count": 15,
   "metadata": {},
   "outputs": [
    {
     "data": {
      "text/plain": [
       "<Axes: >"
      ]
     },
     "execution_count": 15,
     "metadata": {},
     "output_type": "execute_result"
    },
    {
     "data": {
      "image/png": "[encoded data removed]",
      "text/plain": [
       "<Figure size 432x288 with 1 Axes>"
      ]
     },
     "metadata": {
      "needs_background": "light"
     },
     "output_type": "display_data"
    }
   ],
   "source": [
    "pop = pd.DataFrame(np.random.normal(10,5,size=100000))\n",
    "                   \n",
    "pop[0].hist(bins=500,color='cyan')\n",
    "collection['meanlist'].hist(bins=500,color='red')\n",
    "\n",
    "# red is population distribution (Sample mean)\n",
    "# blue is empirical population distribution "
   ]
  },
  {
   "cell_type": "markdown",
   "metadata": {},
   "source": [
    "### What if the population is not normal ?"
   ]
  },
  {
   "cell_type": "markdown",
   "metadata": {},
   "source": [
    "Central limit theory of statistics say, if the sample size is large, the distribution of sample mean looks like normal one with N(μ, σ^2/n) \n",
    "\n",
    "Hence, even if the population is not normal, the sample is approximately normal if the sample size is large enough.\n"
   ]
  },
  {
   "cell_type": "markdown",
   "metadata": {},
   "source": [
    "Distribution sample mean when the population is not normal:"
   ]
  },
  {
   "cell_type": "code",
   "execution_count": null,
   "metadata": {},
   "outputs": [],
   "source": [
    "# See what central limit theorem tells you...the sample size is larger enough, \n",
    "# the distribution of sample mean is approximately normal\n",
    "# apop is not normal, but try to change the sample size from 100 to a larger number. The distribution of sample mean of apop \n",
    "# becomes normal.\n",
    "sample_size = 100\n",
    "samplemeanlist = []\n",
    "apop =  pd.DataFrame([1, 0, 1, 0, 1])\n",
    "for t in range(10000):\n",
    "    sample = apop[0].sample(sample_size, replace=True)  # small sample size\n",
    "    samplemeanlist.append(sample.mean())\n",
    "\n",
    "acollec = pd.DataFrame()\n",
    "acollec['meanlist'] = samplemeanlist\n",
    "acollec.hist(bins=100, density=1,figsize=(15,8))"
   ]
  },
  {
   "cell_type": "markdown",
   "metadata": {},
   "source": [
    "Here's an example about distribution of sample mean when the population is not normal. \n",
    "\n",
    "As you can see here, apop is a DataFrame name, which save the population. \n",
    "\n",
    "In this population, we only have five values, one, zero, one, zero, one. \n",
    "\n",
    "We can generate 100,000 samples with small sample size 10. \n",
    "\n",
    "You can see that in this histogram, for sample means, it does not look like a normal distribution. \n",
    "\n",
    "But, if you generate 100,000 samples with large sample size 2,000, the distribution of sample mean now looks like a normal distribution. "
   ]
  },
  {
   "cell_type": "markdown",
   "metadata": {},
   "source": [
    "## Confidence Interval"
   ]
  },
  {
   "cell_type": "markdown",
   "metadata": {},
   "source": [
    "We will explore how to estimate the average return using confidence interval "
   ]
  },
  {
   "cell_type": "code",
   "execution_count": 29,
   "metadata": {},
   "outputs": [
    {
     "data": {
      "text/html": [
       "<div>\n",
       "<style scoped>\n",
       "    .dataframe tbody tr th:only-of-type {\n",
       "        vertical-align: middle;\n",
       "    }\n",
       "\n",
       "    .dataframe tbody tr th {\n",
       "        vertical-align: top;\n",
       "    }\n",
       "\n",
       "    .dataframe thead th {\n",
       "        text-align: right;\n",
       "    }\n",
       "</style>\n",
       "<table border=\"1\" class=\"dataframe\">\n",
       "  <thead>\n",
       "    <tr style=\"text-align: right;\">\n",
       "      <th></th>\n",
       "      <th>Open</th>\n",
       "      <th>High</th>\n",
       "      <th>Low</th>\n",
       "      <th>Close</th>\n",
       "      <th>Adj Close</th>\n",
       "      <th>Volume</th>\n",
       "    </tr>\n",
       "    <tr>\n",
       "      <th>Date</th>\n",
       "      <th></th>\n",
       "      <th></th>\n",
       "      <th></th>\n",
       "      <th></th>\n",
       "      <th></th>\n",
       "      <th></th>\n",
       "    </tr>\n",
       "  </thead>\n",
       "  <tbody>\n",
       "    <tr>\n",
       "      <th>2006-10-02</th>\n",
       "      <td>10.728572</td>\n",
       "      <td>10.838572</td>\n",
       "      <td>10.614285</td>\n",
       "      <td>10.694285</td>\n",
       "      <td>7.239566</td>\n",
       "      <td>178159800</td>\n",
       "    </tr>\n",
       "    <tr>\n",
       "      <th>2006-10-03</th>\n",
       "      <td>10.635715</td>\n",
       "      <td>10.707143</td>\n",
       "      <td>10.455714</td>\n",
       "      <td>10.582857</td>\n",
       "      <td>7.164135</td>\n",
       "      <td>197677200</td>\n",
       "    </tr>\n",
       "    <tr>\n",
       "      <th>2006-10-04</th>\n",
       "      <td>10.585714</td>\n",
       "      <td>10.780000</td>\n",
       "      <td>10.451428</td>\n",
       "      <td>10.768572</td>\n",
       "      <td>7.289855</td>\n",
       "      <td>207270700</td>\n",
       "    </tr>\n",
       "    <tr>\n",
       "      <th>2006-10-05</th>\n",
       "      <td>10.647142</td>\n",
       "      <td>10.880000</td>\n",
       "      <td>10.590000</td>\n",
       "      <td>10.690000</td>\n",
       "      <td>7.236666</td>\n",
       "      <td>170970800</td>\n",
       "    </tr>\n",
       "    <tr>\n",
       "      <th>2006-10-06</th>\n",
       "      <td>10.631429</td>\n",
       "      <td>10.720000</td>\n",
       "      <td>10.544286</td>\n",
       "      <td>10.602858</td>\n",
       "      <td>7.177672</td>\n",
       "      <td>116739700</td>\n",
       "    </tr>\n",
       "  </tbody>\n",
       "</table>\n",
       "</div>"
      ],
      "text/plain": [
       "                 Open       High        Low      Close  Adj Close     Volume\n",
       "Date                                                                        \n",
       "2006-10-02  10.728572  10.838572  10.614285  10.694285   7.239566  178159800\n",
       "2006-10-03  10.635715  10.707143  10.455714  10.582857   7.164135  197677200\n",
       "2006-10-04  10.585714  10.780000  10.451428  10.768572   7.289855  207270700\n",
       "2006-10-05  10.647142  10.880000  10.590000  10.690000   7.236666  170970800\n",
       "2006-10-06  10.631429  10.720000  10.544286  10.602858   7.177672  116739700"
      ]
     },
     "execution_count": 29,
     "metadata": {},
     "output_type": "execute_result"
    }
   ],
   "source": [
    "aapl = pd.read_csv('data/apple.csv',index_col=0)\n",
    "ms = pd.read_csv('data/microsoft.csv',index_col=0)\n",
    "aapl.head()"
   ]
  },
  {
   "cell_type": "code",
   "execution_count": 31,
   "metadata": {},
   "outputs": [
    {
     "data": {
      "text/html": [
       "<div>\n",
       "<style scoped>\n",
       "    .dataframe tbody tr th:only-of-type {\n",
       "        vertical-align: middle;\n",
       "    }\n",
       "\n",
       "    .dataframe tbody tr th {\n",
       "        vertical-align: top;\n",
       "    }\n",
       "\n",
       "    .dataframe thead th {\n",
       "        text-align: right;\n",
       "    }\n",
       "</style>\n",
       "<table border=\"1\" class=\"dataframe\">\n",
       "  <thead>\n",
       "    <tr style=\"text-align: right;\">\n",
       "      <th></th>\n",
       "      <th>Open</th>\n",
       "      <th>High</th>\n",
       "      <th>Low</th>\n",
       "      <th>Close</th>\n",
       "      <th>Adj Close</th>\n",
       "      <th>Volume</th>\n",
       "    </tr>\n",
       "    <tr>\n",
       "      <th>Date</th>\n",
       "      <th></th>\n",
       "      <th></th>\n",
       "      <th></th>\n",
       "      <th></th>\n",
       "      <th></th>\n",
       "      <th></th>\n",
       "    </tr>\n",
       "  </thead>\n",
       "  <tbody>\n",
       "    <tr>\n",
       "      <th>2014-12-31</th>\n",
       "      <td>46.730000</td>\n",
       "      <td>47.439999</td>\n",
       "      <td>46.450001</td>\n",
       "      <td>46.450001</td>\n",
       "      <td>42.848763</td>\n",
       "      <td>21552500</td>\n",
       "    </tr>\n",
       "    <tr>\n",
       "      <th>2015-01-02</th>\n",
       "      <td>46.660000</td>\n",
       "      <td>47.419998</td>\n",
       "      <td>46.540001</td>\n",
       "      <td>46.759998</td>\n",
       "      <td>43.134731</td>\n",
       "      <td>27913900</td>\n",
       "    </tr>\n",
       "    <tr>\n",
       "      <th>2015-01-05</th>\n",
       "      <td>46.369999</td>\n",
       "      <td>46.730000</td>\n",
       "      <td>46.250000</td>\n",
       "      <td>46.330002</td>\n",
       "      <td>42.738068</td>\n",
       "      <td>39673900</td>\n",
       "    </tr>\n",
       "    <tr>\n",
       "      <th>2015-01-06</th>\n",
       "      <td>46.380001</td>\n",
       "      <td>46.750000</td>\n",
       "      <td>45.540001</td>\n",
       "      <td>45.650002</td>\n",
       "      <td>42.110783</td>\n",
       "      <td>36447900</td>\n",
       "    </tr>\n",
       "    <tr>\n",
       "      <th>2015-01-07</th>\n",
       "      <td>45.980000</td>\n",
       "      <td>46.459999</td>\n",
       "      <td>45.490002</td>\n",
       "      <td>46.230000</td>\n",
       "      <td>42.645817</td>\n",
       "      <td>29114100</td>\n",
       "    </tr>\n",
       "  </tbody>\n",
       "</table>\n",
       "</div>"
      ],
      "text/plain": [
       "                 Open       High        Low      Close  Adj Close    Volume\n",
       "Date                                                                       \n",
       "2014-12-31  46.730000  47.439999  46.450001  46.450001  42.848763  21552500\n",
       "2015-01-02  46.660000  47.419998  46.540001  46.759998  43.134731  27913900\n",
       "2015-01-05  46.369999  46.730000  46.250000  46.330002  42.738068  39673900\n",
       "2015-01-06  46.380001  46.750000  45.540001  45.650002  42.110783  36447900\n",
       "2015-01-07  45.980000  46.459999  45.490002  46.230000  42.645817  29114100"
      ]
     },
     "execution_count": 31,
     "metadata": {},
     "output_type": "execute_result"
    }
   ],
   "source": [
    "ms.head()"
   ]
  },
  {
   "cell_type": "markdown",
   "metadata": {},
   "source": [
    "We can sample mean to estimate the real average return \n",
    "\n",
    "which is population mean in our example before"
   ]
  },
  {
   "cell_type": "code",
   "execution_count": 32,
   "metadata": {},
   "outputs": [],
   "source": [
    "# we will use log return for average stock return of Microsoft\n",
    "\n",
    "aapl['logReturn'] = np.log(aapl['Close'].shift(-1)) - np.log(aapl['Close'])\n",
    "\n",
    "ms['logReturn'] = np.log(ms['Close'].shift(-1)) - np.log(ms['Close'])"
   ]
  },
  {
   "cell_type": "code",
   "execution_count": 34,
   "metadata": {},
   "outputs": [
    {
     "data": {
      "text/html": [
       "<div>\n",
       "<style scoped>\n",
       "    .dataframe tbody tr th:only-of-type {\n",
       "        vertical-align: middle;\n",
       "    }\n",
       "\n",
       "    .dataframe tbody tr th {\n",
       "        vertical-align: top;\n",
       "    }\n",
       "\n",
       "    .dataframe thead th {\n",
       "        text-align: right;\n",
       "    }\n",
       "</style>\n",
       "<table border=\"1\" class=\"dataframe\">\n",
       "  <thead>\n",
       "    <tr style=\"text-align: right;\">\n",
       "      <th></th>\n",
       "      <th>Open</th>\n",
       "      <th>High</th>\n",
       "      <th>Low</th>\n",
       "      <th>Close</th>\n",
       "      <th>Adj Close</th>\n",
       "      <th>Volume</th>\n",
       "      <th>logReturn</th>\n",
       "    </tr>\n",
       "    <tr>\n",
       "      <th>Date</th>\n",
       "      <th></th>\n",
       "      <th></th>\n",
       "      <th></th>\n",
       "      <th></th>\n",
       "      <th></th>\n",
       "      <th></th>\n",
       "      <th></th>\n",
       "    </tr>\n",
       "  </thead>\n",
       "  <tbody>\n",
       "    <tr>\n",
       "      <th>2006-10-02</th>\n",
       "      <td>10.728572</td>\n",
       "      <td>10.838572</td>\n",
       "      <td>10.614285</td>\n",
       "      <td>10.694285</td>\n",
       "      <td>7.239566</td>\n",
       "      <td>178159800</td>\n",
       "      <td>-0.010474</td>\n",
       "    </tr>\n",
       "    <tr>\n",
       "      <th>2006-10-03</th>\n",
       "      <td>10.635715</td>\n",
       "      <td>10.707143</td>\n",
       "      <td>10.455714</td>\n",
       "      <td>10.582857</td>\n",
       "      <td>7.164135</td>\n",
       "      <td>197677200</td>\n",
       "      <td>0.017396</td>\n",
       "    </tr>\n",
       "    <tr>\n",
       "      <th>2006-10-04</th>\n",
       "      <td>10.585714</td>\n",
       "      <td>10.780000</td>\n",
       "      <td>10.451428</td>\n",
       "      <td>10.768572</td>\n",
       "      <td>7.289855</td>\n",
       "      <td>207270700</td>\n",
       "      <td>-0.007323</td>\n",
       "    </tr>\n",
       "    <tr>\n",
       "      <th>2006-10-05</th>\n",
       "      <td>10.647142</td>\n",
       "      <td>10.880000</td>\n",
       "      <td>10.590000</td>\n",
       "      <td>10.690000</td>\n",
       "      <td>7.236666</td>\n",
       "      <td>170970800</td>\n",
       "      <td>-0.008185</td>\n",
       "    </tr>\n",
       "    <tr>\n",
       "      <th>2006-10-06</th>\n",
       "      <td>10.631429</td>\n",
       "      <td>10.720000</td>\n",
       "      <td>10.544286</td>\n",
       "      <td>10.602858</td>\n",
       "      <td>7.177672</td>\n",
       "      <td>116739700</td>\n",
       "      <td>0.005509</td>\n",
       "    </tr>\n",
       "  </tbody>\n",
       "</table>\n",
       "</div>"
      ],
      "text/plain": [
       "                 Open       High        Low      Close  Adj Close     Volume  \\\n",
       "Date                                                                           \n",
       "2006-10-02  10.728572  10.838572  10.614285  10.694285   7.239566  178159800   \n",
       "2006-10-03  10.635715  10.707143  10.455714  10.582857   7.164135  197677200   \n",
       "2006-10-04  10.585714  10.780000  10.451428  10.768572   7.289855  207270700   \n",
       "2006-10-05  10.647142  10.880000  10.590000  10.690000   7.236666  170970800   \n",
       "2006-10-06  10.631429  10.720000  10.544286  10.602858   7.177672  116739700   \n",
       "\n",
       "            logReturn  \n",
       "Date                   \n",
       "2006-10-02  -0.010474  \n",
       "2006-10-03   0.017396  \n",
       "2006-10-04  -0.007323  \n",
       "2006-10-05  -0.008185  \n",
       "2006-10-06   0.005509  "
      ]
     },
     "execution_count": 34,
     "metadata": {},
     "output_type": "execute_result"
    }
   ],
   "source": [
    "aapl.head()"
   ]
  },
  {
   "cell_type": "markdown",
   "metadata": {},
   "source": [
    "### Estimate the average stock return with 90% Confidence Interval"
   ]
  },
  {
   "cell_type": "markdown",
   "metadata": {},
   "source": [
    "### Z-Values and Formulas\n",
    "\n",
    "In statistics, a z-value (also known as a z-score) measures how many standard deviations a data point is away from the mean of a distribution. It's a standardized way to compare individual data points to the overall distribution.\n",
    "\n",
    "### Z-Score Formula\n",
    "\n",
    "The formula to calculate the z-score of a data point is:\n",
    "\n",
    "z = (x - μ) / σ\n",
    "\n",
    "Where:\n",
    "- \\(x\\) is the individual data point,\n",
    "- \\(\\mu\\) is the mean of the distribution,\n",
    "- \\(\\sigma\\) is the standard deviation of the distribution.\n",
    "\n",
    "The resulting \\(z\\) value tells you how many standard deviations the data point \\(x\\) is from the mean. A positive z-score indicates that the data point is above the mean, while a negative z-score indicates that it's below the mean.\n",
    "\n",
    "### Z-Distribution\n",
    "\n",
    "The z-distribution, also known as the standard normal distribution, is a special case of the normal distribution with a mean of 0 and a standard deviation of 1. The formula for the probability density function (PDF) of the standard normal distribution is:\n",
    "\n",
    "\\[\n",
    "f(z) = \\frac{1}{\\sqrt{2\\pi}} e^{-\\frac{1}{2}z^2}\n",
    "\\]\n",
    "\n",
    "f(z) = 1/root(2π) * e ^ ((-1/2)*z)^2\n",
    "\n",
    "This distribution is often used as a reference when working with z-values. By converting data points from other distributions to z-scores and referring to the z-distribution, you can make comparisons and calculations more standardized.\n",
    "\n",
    "### Use Cases\n",
    "\n",
    "Z-values are commonly used for:\n",
    "- Identifying outliers: Data points with z-scores far from 0 are considered outliers.\n",
    "- Hypothesis testing: Z-tests are used to compare sample means to population means.\n",
    "- Confidence intervals: Z-values are used to calculate the margin of error in confidence intervals.\n",
    "\n",
    "Remember that the z-score assumes that the data follows a normal distribution. If your data doesn't follow a normal distribution, z-scores might not be as meaningful, and alternative methods may be necessary.\n"
   ]
  },
  {
   "cell_type": "code",
   "execution_count": 37,
   "metadata": {},
   "outputs": [
    {
     "name": "stdout",
     "output_type": "stream",
     "text": [
      "sample mean for AAPL: 0.0008202314861230223\n",
      "90% confidence interval is  (0.00016900921195778793, 0.0014714537602882566)\n"
     ]
    }
   ],
   "source": [
    "# Lets build 90% confidence interval for log return\n",
    "sample_size_ms = ms['logReturn'].shape[0]\n",
    "sample_mean_ms = ms['logReturn'].mean()\n",
    "sample_std_ms = ms['logReturn'].std(ddof=1) / sample_size_ms**0.5\n",
    "\n",
    "# left and right quantile\n",
    "z_left = norm.ppf(0.1)\n",
    "z_right = norm.ppf(0.9)\n",
    "\n",
    "# upper and lower bound\n",
    "interval_left = sample_mean_ms + z_left * sample_std_ms\n",
    "interval_right = sample_mean_ms + z_right * sample_std_ms\n",
    "\n",
    "\n",
    "# 90% confidence interval tells you that there will be 90% chance that the average stock return lies between \"interval_left\"\n",
    "# and \"interval_right\".\n",
    "print('sample mean for AAPL:', sample_mean_ms)\n",
    "print('90% confidence interval is ', (interval_left, interval_right))"
   ]
  },
  {
   "cell_type": "code",
   "execution_count": 36,
   "metadata": {},
   "outputs": [
    {
     "name": "stdout",
     "output_type": "stream",
     "text": [
      "sample mean for AAPL: 0.000975467759150088\n",
      "90% confidence interval is  (0.0004927367254936755, 0.0014581987928065005)\n"
     ]
    }
   ],
   "source": [
    "# Lets build 90% confidence interval for log return\n",
    "sample_size_aapl = aapl['logReturn'].shape[0]\n",
    "sample_mean_aapl = aapl['logReturn'].mean()\n",
    "sample_std_aapl = aapl['logReturn'].std(ddof=1) / sample_size_aapl**0.5\n",
    "\n",
    "# left and right quantile\n",
    "z_left_aapl = norm.ppf(0.1)\n",
    "z_right_aapl = norm.ppf(0.9)\n",
    "\n",
    "# upper and lower bound\n",
    "interval_left = sample_mean_aapl + z_left_aapl * sample_std_aapl\n",
    "interval_right = sample_mean_aapl + z_right_aapl * sample_std_aapl\n",
    "\n",
    "\n",
    "# 90% confidence interval tells you that there will be 90% chance that the average stock return lies between \"interval_left\"\n",
    "# and \"interval_right\".\n",
    "print('sample mean for AAPL:', sample_mean_aapl)\n",
    "print('90% confidence interval is ', (interval_left, interval_right))"
   ]
  },
  {
   "cell_type": "markdown",
   "metadata": {},
   "source": [
    "Notice the above interval is POSITIVE.\n",
    "\n",
    "It implies that the average return is very likely to be positive."
   ]
  },
  {
   "cell_type": "markdown",
   "metadata": {},
   "source": [
    "## Hypothesis Testing"
   ]
  },
  {
   "cell_type": "markdown",
   "metadata": {},
   "source": []
  },
  {
   "cell_type": "code",
   "execution_count": 39,
   "metadata": {},
   "outputs": [
    {
     "data": {
      "text/html": [
       "<div>\n",
       "<style scoped>\n",
       "    .dataframe tbody tr th:only-of-type {\n",
       "        vertical-align: middle;\n",
       "    }\n",
       "\n",
       "    .dataframe tbody tr th {\n",
       "        vertical-align: top;\n",
       "    }\n",
       "\n",
       "    .dataframe thead th {\n",
       "        text-align: right;\n",
       "    }\n",
       "</style>\n",
       "<table border=\"1\" class=\"dataframe\">\n",
       "  <thead>\n",
       "    <tr style=\"text-align: right;\">\n",
       "      <th></th>\n",
       "      <th>Open</th>\n",
       "      <th>High</th>\n",
       "      <th>Low</th>\n",
       "      <th>Close</th>\n",
       "      <th>Adj Close</th>\n",
       "      <th>Volume</th>\n",
       "      <th>logReturn</th>\n",
       "    </tr>\n",
       "    <tr>\n",
       "      <th>Date</th>\n",
       "      <th></th>\n",
       "      <th></th>\n",
       "      <th></th>\n",
       "      <th></th>\n",
       "      <th></th>\n",
       "      <th></th>\n",
       "      <th></th>\n",
       "    </tr>\n",
       "  </thead>\n",
       "  <tbody>\n",
       "    <tr>\n",
       "      <th>2014-12-31</th>\n",
       "      <td>46.730000</td>\n",
       "      <td>47.439999</td>\n",
       "      <td>46.450001</td>\n",
       "      <td>46.450001</td>\n",
       "      <td>42.848763</td>\n",
       "      <td>21552500</td>\n",
       "      <td>0.006652</td>\n",
       "    </tr>\n",
       "    <tr>\n",
       "      <th>2015-01-02</th>\n",
       "      <td>46.660000</td>\n",
       "      <td>47.419998</td>\n",
       "      <td>46.540001</td>\n",
       "      <td>46.759998</td>\n",
       "      <td>43.134731</td>\n",
       "      <td>27913900</td>\n",
       "      <td>-0.009238</td>\n",
       "    </tr>\n",
       "    <tr>\n",
       "      <th>2015-01-05</th>\n",
       "      <td>46.369999</td>\n",
       "      <td>46.730000</td>\n",
       "      <td>46.250000</td>\n",
       "      <td>46.330002</td>\n",
       "      <td>42.738068</td>\n",
       "      <td>39673900</td>\n",
       "      <td>-0.014786</td>\n",
       "    </tr>\n",
       "    <tr>\n",
       "      <th>2015-01-06</th>\n",
       "      <td>46.380001</td>\n",
       "      <td>46.750000</td>\n",
       "      <td>45.540001</td>\n",
       "      <td>45.650002</td>\n",
       "      <td>42.110783</td>\n",
       "      <td>36447900</td>\n",
       "      <td>0.012625</td>\n",
       "    </tr>\n",
       "    <tr>\n",
       "      <th>2015-01-07</th>\n",
       "      <td>45.980000</td>\n",
       "      <td>46.459999</td>\n",
       "      <td>45.490002</td>\n",
       "      <td>46.230000</td>\n",
       "      <td>42.645817</td>\n",
       "      <td>29114100</td>\n",
       "      <td>0.028994</td>\n",
       "    </tr>\n",
       "  </tbody>\n",
       "</table>\n",
       "</div>"
      ],
      "text/plain": [
       "                 Open       High        Low      Close  Adj Close    Volume  \\\n",
       "Date                                                                          \n",
       "2014-12-31  46.730000  47.439999  46.450001  46.450001  42.848763  21552500   \n",
       "2015-01-02  46.660000  47.419998  46.540001  46.759998  43.134731  27913900   \n",
       "2015-01-05  46.369999  46.730000  46.250000  46.330002  42.738068  39673900   \n",
       "2015-01-06  46.380001  46.750000  45.540001  45.650002  42.110783  36447900   \n",
       "2015-01-07  45.980000  46.459999  45.490002  46.230000  42.645817  29114100   \n",
       "\n",
       "            logReturn  \n",
       "Date                   \n",
       "2014-12-31   0.006652  \n",
       "2015-01-02  -0.009238  \n",
       "2015-01-05  -0.014786  \n",
       "2015-01-06   0.012625  \n",
       "2015-01-07   0.028994  "
      ]
     },
     "execution_count": 39,
     "metadata": {},
     "output_type": "execute_result"
    }
   ],
   "source": [
    "ms.head()"
   ]
  },
  {
   "cell_type": "code",
   "execution_count": 45,
   "metadata": {},
   "outputs": [
    {
     "data": {
      "image/png": "[encoded data removed]",
      "text/plain": [
       "<Figure size 432x288 with 1 Axes>"
      ]
     },
     "metadata": {
      "needs_background": "light"
     },
     "output_type": "display_data"
    }
   ],
   "source": [
    "from matplotlib.dates import YearLocator\n",
    "\n",
    "plt.title(\"Close Price of Apple from 2007 to 2018\")\n",
    "plt.xlabel(\"Time\", size=20)\n",
    "plt.ylabel(\"US $\", size=20)\n",
    "\n",
    "plt.plot(aapl.index, aapl['Close'])\n",
    "\n",
    "# Create a YearLocator to show only years on the x-axis\n",
    "years = YearLocator()\n",
    "plt.gca().xaxis.set_major_locator(years)\n",
    "\n",
    "\n",
    "\n",
    "plt.gcf().autofmt_xdate()  # Automatically format the date labels for better readability\n",
    "\n",
    "plt.show()"
   ]
  },
  {
   "cell_type": "markdown",
   "metadata": {},
   "source": [
    "This is a daily close price of Apple from 2007 to 2018. \n",
    "\n",
    "It looks like the price is in an upward trend and we may guess the average of daily return is positive. \n",
    "\n",
    "However, if we plot the daily return directly, the daily return goes positive, negative. \n",
    "\n",
    "And our assertion that the average of daily return is positive is not obvious.\n",
    "\n",
    "It is also not obvious whether the average of daily return is 0 or not."
   ]
  },
  {
   "cell_type": "code",
   "execution_count": 46,
   "metadata": {},
   "outputs": [
    {
     "data": {
      "image/png": "[encoded data removed]",
      "text/plain": [
       "<Figure size 1440x576 with 1 Axes>"
      ]
     },
     "metadata": {
      "needs_background": "light"
     },
     "output_type": "display_data"
    }
   ],
   "source": [
    "# Log return goes up and down during the period\n",
    "aapl['logReturn'].plot(figsize=(20, 8))\n",
    "plt.axhline(0, color='red')\n",
    "plt.show()"
   ]
  },
  {
   "cell_type": "markdown",
   "metadata": {},
   "source": [
    "# Quiz"
   ]
  },
  {
   "cell_type": "markdown",
   "metadata": {},
   "source": [
    "What is true about sample and population?\n",
    "- Sample is a subset of population which is randomly draw from population.\n",
    "\n",
    "You have a DataFrame called ‘data’ which has only one column ‘population’. How to draw sample with sample size =5, from a ‘population’\n",
    "- data[‘population’].sample(5, replace=True)\n",
    "\n",
    "Why is the degrees of freedom n-1 in sample variance?\n",
    "- The degrees of freedom in sample variance is constrained by the sample mean.\n",
    "\n",
    "What does Central Limit Theorem tell you about the distribution of sample mean?\n",
    "- The distribution of sample mean follows normal distribution with very large sample size follows normal distribution regardless of the population distribution\n",
    "\n",
    "Suppose we have 3 independent normal random variables X1, X2 and X3: X1~(μ,σ^2), X2~(μ,σ^2), X3~(μ,σ^2) What is the distribution of X1 + X2 + X3?\n",
    "- Mean and variance of X1, X2 and X3 are added up, Ν(μ,3σ^2)\n",
    "\n",
    "Why do we need to standardize sample mean when making inference?\n",
    "- The standardized distribution of sample mean follows N(O,1) which is easier to make inference \n",
    "\n",
    "What can a 95% confidence interval of daily return of an investment tell you?\n",
    "- With 95% chance this interval will cover the mean of daily return\n",
    "\n",
    "What is the confidence interval of this exercise (3.5 sample and inference) ?\n",
    "- [-0.000015603, 0.001656] \n",
    "\n",
    "When do you reject a null hypothesis with alternative hypothesis μ>0 with significance level α?\n",
    "-  p value is smaller than α\n",
    "-  z < z_(1-α)\n",
    "\n",
    "When doing analysis of stock return, you notice that with 95% confidence interval, the upper bound and lower bound are negative. Base on this data, what can you tell about this stock?\n",
    "- There is 95% chance of which the mean return of this stock is negative"
   ]
  }
 ],
 "metadata": {
  "kernelspec": {
   "display_name": "Python 3",
   "language": "python",
   "name": "python3"
  },
  "language_info": {
   "codemirror_mode": {
    "name": "ipython",
    "version": 3
   },
   "file_extension": ".py",
   "mimetype": "text/x-python",
   "name": "python",
   "nbconvert_exporter": "python",
   "pygments_lexer": "ipython3",
   "version": "3.9.7"
  },
  "orig_nbformat": 4
 },
 "nbformat": 4,
 "nbformat_minor": 2
}
