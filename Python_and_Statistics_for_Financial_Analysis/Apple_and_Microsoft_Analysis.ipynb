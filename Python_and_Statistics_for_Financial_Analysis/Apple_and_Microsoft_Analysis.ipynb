{
 "cells": [
  {
   "cell_type": "markdown",
   "metadata": {},
   "source": [
    "# Model Stock Returns \n",
    "\n",
    "\n",
    "using normal random variable and demonstrate the importance of distributions in identifying financial risk"
   ]
  },
  {
   "cell_type": "code",
   "execution_count": 1,
   "metadata": {},
   "outputs": [
    {
     "name": "stderr",
     "output_type": "stream",
     "text": [
      "UsageError: Line magic function `%` not found.\n"
     ]
    }
   ],
   "source": [
    "import pandas as pd\n",
    "import numpy as np\n",
    "import matplotlib.pyplot as plt\n",
    "% matplotlib inline"
   ]
  },
  {
   "cell_type": "markdown",
   "metadata": {},
   "source": [
    "## Microsoft Stock Analysis"
   ]
  },
  {
   "cell_type": "code",
   "execution_count": 20,
   "metadata": {},
   "outputs": [
    {
     "data": {
      "text/html": [
       "<div>\n",
       "<style scoped>\n",
       "    .dataframe tbody tr th:only-of-type {\n",
       "        vertical-align: middle;\n",
       "    }\n",
       "\n",
       "    .dataframe tbody tr th {\n",
       "        vertical-align: top;\n",
       "    }\n",
       "\n",
       "    .dataframe thead th {\n",
       "        text-align: right;\n",
       "    }\n",
       "</style>\n",
       "<table border=\"1\" class=\"dataframe\">\n",
       "  <thead>\n",
       "    <tr style=\"text-align: right;\">\n",
       "      <th></th>\n",
       "      <th>Open</th>\n",
       "      <th>High</th>\n",
       "      <th>Low</th>\n",
       "      <th>Close</th>\n",
       "      <th>Adj Close</th>\n",
       "      <th>Volume</th>\n",
       "    </tr>\n",
       "    <tr>\n",
       "      <th>Date</th>\n",
       "      <th></th>\n",
       "      <th></th>\n",
       "      <th></th>\n",
       "      <th></th>\n",
       "      <th></th>\n",
       "      <th></th>\n",
       "    </tr>\n",
       "  </thead>\n",
       "  <tbody>\n",
       "    <tr>\n",
       "      <th>2014-12-31</th>\n",
       "      <td>46.730000</td>\n",
       "      <td>47.439999</td>\n",
       "      <td>46.450001</td>\n",
       "      <td>46.450001</td>\n",
       "      <td>42.848763</td>\n",
       "      <td>21552500</td>\n",
       "    </tr>\n",
       "    <tr>\n",
       "      <th>2015-01-02</th>\n",
       "      <td>46.660000</td>\n",
       "      <td>47.419998</td>\n",
       "      <td>46.540001</td>\n",
       "      <td>46.759998</td>\n",
       "      <td>43.134731</td>\n",
       "      <td>27913900</td>\n",
       "    </tr>\n",
       "    <tr>\n",
       "      <th>2015-01-05</th>\n",
       "      <td>46.369999</td>\n",
       "      <td>46.730000</td>\n",
       "      <td>46.250000</td>\n",
       "      <td>46.330002</td>\n",
       "      <td>42.738068</td>\n",
       "      <td>39673900</td>\n",
       "    </tr>\n",
       "    <tr>\n",
       "      <th>2015-01-06</th>\n",
       "      <td>46.380001</td>\n",
       "      <td>46.750000</td>\n",
       "      <td>45.540001</td>\n",
       "      <td>45.650002</td>\n",
       "      <td>42.110783</td>\n",
       "      <td>36447900</td>\n",
       "    </tr>\n",
       "    <tr>\n",
       "      <th>2015-01-07</th>\n",
       "      <td>45.980000</td>\n",
       "      <td>46.459999</td>\n",
       "      <td>45.490002</td>\n",
       "      <td>46.230000</td>\n",
       "      <td>42.645817</td>\n",
       "      <td>29114100</td>\n",
       "    </tr>\n",
       "  </tbody>\n",
       "</table>\n",
       "</div>"
      ],
      "text/plain": [
       "                 Open       High        Low      Close  Adj Close    Volume\n",
       "Date                                                                       \n",
       "2014-12-31  46.730000  47.439999  46.450001  46.450001  42.848763  21552500\n",
       "2015-01-02  46.660000  47.419998  46.540001  46.759998  43.134731  27913900\n",
       "2015-01-05  46.369999  46.730000  46.250000  46.330002  42.738068  39673900\n",
       "2015-01-06  46.380001  46.750000  45.540001  45.650002  42.110783  36447900\n",
       "2015-01-07  45.980000  46.459999  45.490002  46.230000  42.645817  29114100"
      ]
     },
     "execution_count": 20,
     "metadata": {},
     "output_type": "execute_result"
    }
   ],
   "source": [
    "ms = pd.read_csv('data/microsoft.csv',index_col=0)\n",
    "ms.head()"
   ]
  },
  {
   "cell_type": "code",
   "execution_count": 21,
   "metadata": {},
   "outputs": [
    {
     "data": {
      "text/html": [
       "<div>\n",
       "<style scoped>\n",
       "    .dataframe tbody tr th:only-of-type {\n",
       "        vertical-align: middle;\n",
       "    }\n",
       "\n",
       "    .dataframe tbody tr th {\n",
       "        vertical-align: top;\n",
       "    }\n",
       "\n",
       "    .dataframe thead th {\n",
       "        text-align: right;\n",
       "    }\n",
       "</style>\n",
       "<table border=\"1\" class=\"dataframe\">\n",
       "  <thead>\n",
       "    <tr style=\"text-align: right;\">\n",
       "      <th></th>\n",
       "      <th>Open</th>\n",
       "      <th>High</th>\n",
       "      <th>Low</th>\n",
       "      <th>Close</th>\n",
       "      <th>Adj Close</th>\n",
       "      <th>Volume</th>\n",
       "      <th>LogReturn</th>\n",
       "    </tr>\n",
       "    <tr>\n",
       "      <th>Date</th>\n",
       "      <th></th>\n",
       "      <th></th>\n",
       "      <th></th>\n",
       "      <th></th>\n",
       "      <th></th>\n",
       "      <th></th>\n",
       "      <th></th>\n",
       "    </tr>\n",
       "  </thead>\n",
       "  <tbody>\n",
       "    <tr>\n",
       "      <th>2014-12-31</th>\n",
       "      <td>46.730000</td>\n",
       "      <td>47.439999</td>\n",
       "      <td>46.450001</td>\n",
       "      <td>46.450001</td>\n",
       "      <td>42.848763</td>\n",
       "      <td>21552500</td>\n",
       "      <td>0.006652</td>\n",
       "    </tr>\n",
       "    <tr>\n",
       "      <th>2015-01-02</th>\n",
       "      <td>46.660000</td>\n",
       "      <td>47.419998</td>\n",
       "      <td>46.540001</td>\n",
       "      <td>46.759998</td>\n",
       "      <td>43.134731</td>\n",
       "      <td>27913900</td>\n",
       "      <td>-0.009238</td>\n",
       "    </tr>\n",
       "    <tr>\n",
       "      <th>2015-01-05</th>\n",
       "      <td>46.369999</td>\n",
       "      <td>46.730000</td>\n",
       "      <td>46.250000</td>\n",
       "      <td>46.330002</td>\n",
       "      <td>42.738068</td>\n",
       "      <td>39673900</td>\n",
       "      <td>-0.014786</td>\n",
       "    </tr>\n",
       "    <tr>\n",
       "      <th>2015-01-06</th>\n",
       "      <td>46.380001</td>\n",
       "      <td>46.750000</td>\n",
       "      <td>45.540001</td>\n",
       "      <td>45.650002</td>\n",
       "      <td>42.110783</td>\n",
       "      <td>36447900</td>\n",
       "      <td>0.012625</td>\n",
       "    </tr>\n",
       "    <tr>\n",
       "      <th>2015-01-07</th>\n",
       "      <td>45.980000</td>\n",
       "      <td>46.459999</td>\n",
       "      <td>45.490002</td>\n",
       "      <td>46.230000</td>\n",
       "      <td>42.645817</td>\n",
       "      <td>29114100</td>\n",
       "      <td>0.028994</td>\n",
       "    </tr>\n",
       "  </tbody>\n",
       "</table>\n",
       "</div>"
      ],
      "text/plain": [
       "                 Open       High        Low      Close  Adj Close    Volume  \\\n",
       "Date                                                                          \n",
       "2014-12-31  46.730000  47.439999  46.450001  46.450001  42.848763  21552500   \n",
       "2015-01-02  46.660000  47.419998  46.540001  46.759998  43.134731  27913900   \n",
       "2015-01-05  46.369999  46.730000  46.250000  46.330002  42.738068  39673900   \n",
       "2015-01-06  46.380001  46.750000  45.540001  45.650002  42.110783  36447900   \n",
       "2015-01-07  45.980000  46.459999  45.490002  46.230000  42.645817  29114100   \n",
       "\n",
       "            LogReturn  \n",
       "Date                   \n",
       "2014-12-31   0.006652  \n",
       "2015-01-02  -0.009238  \n",
       "2015-01-05  -0.014786  \n",
       "2015-01-06   0.012625  \n",
       "2015-01-07   0.028994  "
      ]
     },
     "execution_count": 21,
     "metadata": {},
     "output_type": "execute_result"
    }
   ],
   "source": [
    "# Distribution of Log return\n",
    "# let play around with ms data by calculating the log daily return\n",
    "ms['LogReturn'] = np.log(ms['Close']).shift(-1) - np.log(ms['Close'])\n",
    "ms.head()"
   ]
  },
  {
   "cell_type": "code",
   "execution_count": 22,
   "metadata": {},
   "outputs": [
    {
     "data": {
      "image/png": "[encoded data removed]",
      "text/plain": [
       "<Figure size 1080x576 with 1 Axes>"
      ]
     },
     "metadata": {
      "needs_background": "light"
     },
     "output_type": "display_data"
    }
   ],
   "source": [
    "# Plot a histogram to show the distribution of log return of Microsoft's stock. \n",
    "# You can see it is very close to a normal distribution\n",
    "from scipy.stats import norm\n",
    "mu = ms['LogReturn'].mean()\n",
    "sigma = ms['LogReturn'].std(ddof=1)\n",
    "\n",
    "density = pd.DataFrame()\n",
    "density['x'] = np.arange(ms['LogReturn'].min()-0.01, ms['LogReturn'].max()+0.01, 0.001)\n",
    "density['pdf'] = norm.pdf(density['x'], mu, sigma)\n",
    "\n",
    "ms['LogReturn'].hist(bins=50, figsize=(15, 8))\n",
    "plt.plot(density['x'], density['pdf'], color='red')\n",
    "plt.show()"
   ]
  },
  {
   "cell_type": "code",
   "execution_count": 32,
   "metadata": {},
   "outputs": [
    {
     "name": "stdout",
     "output_type": "stream",
     "text": [
      "The Probability is  0.00017118482608677866\n"
     ]
    }
   ],
   "source": [
    "# probability that the stock price of microsoft will drop over 5% in a day\n",
    "prob_return1 = norm.cdf(-0.05, mu, sigma)\n",
    "print('The Probability is ', prob_return1)"
   ]
  },
  {
   "cell_type": "code",
   "execution_count": 33,
   "metadata": {},
   "outputs": [
    {
     "name": "stdout",
     "output_type": "stream",
     "text": [
      "The Probability is  6.056775634858584e-13\n"
     ]
    }
   ],
   "source": [
    "# calculating the probability that the stock price of microsoft will drop over 10% in a day\n",
    "prob_return10 = norm.cdf(-0.10, mu, sigma)\n",
    "print('The Probability is ', prob_return10)"
   ]
  },
  {
   "cell_type": "markdown",
   "metadata": {},
   "source": [
    "## Apple Stock Analysis"
   ]
  },
  {
   "cell_type": "code",
   "execution_count": 18,
   "metadata": {},
   "outputs": [
    {
     "data": {
      "text/html": [
       "<div>\n",
       "<style scoped>\n",
       "    .dataframe tbody tr th:only-of-type {\n",
       "        vertical-align: middle;\n",
       "    }\n",
       "\n",
       "    .dataframe tbody tr th {\n",
       "        vertical-align: top;\n",
       "    }\n",
       "\n",
       "    .dataframe thead th {\n",
       "        text-align: right;\n",
       "    }\n",
       "</style>\n",
       "<table border=\"1\" class=\"dataframe\">\n",
       "  <thead>\n",
       "    <tr style=\"text-align: right;\">\n",
       "      <th></th>\n",
       "      <th>Open</th>\n",
       "      <th>High</th>\n",
       "      <th>Low</th>\n",
       "      <th>Close</th>\n",
       "      <th>Adj Close</th>\n",
       "      <th>Volume</th>\n",
       "    </tr>\n",
       "    <tr>\n",
       "      <th>Date</th>\n",
       "      <th></th>\n",
       "      <th></th>\n",
       "      <th></th>\n",
       "      <th></th>\n",
       "      <th></th>\n",
       "      <th></th>\n",
       "    </tr>\n",
       "  </thead>\n",
       "  <tbody>\n",
       "    <tr>\n",
       "      <th>2006-10-02</th>\n",
       "      <td>10.728572</td>\n",
       "      <td>10.838572</td>\n",
       "      <td>10.614285</td>\n",
       "      <td>10.694285</td>\n",
       "      <td>7.239566</td>\n",
       "      <td>178159800</td>\n",
       "    </tr>\n",
       "    <tr>\n",
       "      <th>2006-10-03</th>\n",
       "      <td>10.635715</td>\n",
       "      <td>10.707143</td>\n",
       "      <td>10.455714</td>\n",
       "      <td>10.582857</td>\n",
       "      <td>7.164135</td>\n",
       "      <td>197677200</td>\n",
       "    </tr>\n",
       "    <tr>\n",
       "      <th>2006-10-04</th>\n",
       "      <td>10.585714</td>\n",
       "      <td>10.780000</td>\n",
       "      <td>10.451428</td>\n",
       "      <td>10.768572</td>\n",
       "      <td>7.289855</td>\n",
       "      <td>207270700</td>\n",
       "    </tr>\n",
       "    <tr>\n",
       "      <th>2006-10-05</th>\n",
       "      <td>10.647142</td>\n",
       "      <td>10.880000</td>\n",
       "      <td>10.590000</td>\n",
       "      <td>10.690000</td>\n",
       "      <td>7.236666</td>\n",
       "      <td>170970800</td>\n",
       "    </tr>\n",
       "    <tr>\n",
       "      <th>2006-10-06</th>\n",
       "      <td>10.631429</td>\n",
       "      <td>10.720000</td>\n",
       "      <td>10.544286</td>\n",
       "      <td>10.602858</td>\n",
       "      <td>7.177672</td>\n",
       "      <td>116739700</td>\n",
       "    </tr>\n",
       "  </tbody>\n",
       "</table>\n",
       "</div>"
      ],
      "text/plain": [
       "                 Open       High        Low      Close  Adj Close     Volume\n",
       "Date                                                                        \n",
       "2006-10-02  10.728572  10.838572  10.614285  10.694285   7.239566  178159800\n",
       "2006-10-03  10.635715  10.707143  10.455714  10.582857   7.164135  197677200\n",
       "2006-10-04  10.585714  10.780000  10.451428  10.768572   7.289855  207270700\n",
       "2006-10-05  10.647142  10.880000  10.590000  10.690000   7.236666  170970800\n",
       "2006-10-06  10.631429  10.720000  10.544286  10.602858   7.177672  116739700"
      ]
     },
     "execution_count": 18,
     "metadata": {},
     "output_type": "execute_result"
    }
   ],
   "source": [
    "aapl = pd.read_csv('data/apple.csv',index_col=0)\n",
    "aapl.head()"
   ]
  },
  {
   "cell_type": "code",
   "execution_count": 19,
   "metadata": {},
   "outputs": [
    {
     "data": {
      "text/plain": [
       "<Axes: xlabel='Date'>"
      ]
     },
     "execution_count": 19,
     "metadata": {},
     "output_type": "execute_result"
    },
    {
     "data": {
      "image/png": "[encoded data removed]",
      "text/plain": [
       "<Figure size 432x288 with 1 Axes>"
      ]
     },
     "metadata": {
      "needs_background": "light"
     },
     "output_type": "display_data"
    }
   ],
   "source": [
    "aapl.loc['2012-08-01':'2013-8-01','Close'].plot()"
   ]
  },
  {
   "cell_type": "markdown",
   "metadata": {},
   "source": [
    "It is really crucial in risk management. \n",
    "\n",
    "For example, the stock price of Apple drop over 40% from August 2012 to May 2013, roughly one year. \n",
    "\n",
    "We need to compute what's the chance that the yearly return can be less than negative 40%. \n",
    "\n",
    "Is that possible, or just an extreme case like black swan. \n",
    "\n",
    "Lets compute log daily return for stock price of Apple."
   ]
  },
  {
   "cell_type": "code",
   "execution_count": 23,
   "metadata": {},
   "outputs": [
    {
     "data": {
      "text/html": [
       "<div>\n",
       "<style scoped>\n",
       "    .dataframe tbody tr th:only-of-type {\n",
       "        vertical-align: middle;\n",
       "    }\n",
       "\n",
       "    .dataframe tbody tr th {\n",
       "        vertical-align: top;\n",
       "    }\n",
       "\n",
       "    .dataframe thead th {\n",
       "        text-align: right;\n",
       "    }\n",
       "</style>\n",
       "<table border=\"1\" class=\"dataframe\">\n",
       "  <thead>\n",
       "    <tr style=\"text-align: right;\">\n",
       "      <th></th>\n",
       "      <th>Open</th>\n",
       "      <th>High</th>\n",
       "      <th>Low</th>\n",
       "      <th>Close</th>\n",
       "      <th>Adj Close</th>\n",
       "      <th>Volume</th>\n",
       "      <th>LogReturn</th>\n",
       "    </tr>\n",
       "    <tr>\n",
       "      <th>Date</th>\n",
       "      <th></th>\n",
       "      <th></th>\n",
       "      <th></th>\n",
       "      <th></th>\n",
       "      <th></th>\n",
       "      <th></th>\n",
       "      <th></th>\n",
       "    </tr>\n",
       "  </thead>\n",
       "  <tbody>\n",
       "    <tr>\n",
       "      <th>2006-10-02</th>\n",
       "      <td>10.728572</td>\n",
       "      <td>10.838572</td>\n",
       "      <td>10.614285</td>\n",
       "      <td>10.694285</td>\n",
       "      <td>7.239566</td>\n",
       "      <td>178159800</td>\n",
       "      <td>-0.010474</td>\n",
       "    </tr>\n",
       "    <tr>\n",
       "      <th>2006-10-03</th>\n",
       "      <td>10.635715</td>\n",
       "      <td>10.707143</td>\n",
       "      <td>10.455714</td>\n",
       "      <td>10.582857</td>\n",
       "      <td>7.164135</td>\n",
       "      <td>197677200</td>\n",
       "      <td>0.017396</td>\n",
       "    </tr>\n",
       "    <tr>\n",
       "      <th>2006-10-04</th>\n",
       "      <td>10.585714</td>\n",
       "      <td>10.780000</td>\n",
       "      <td>10.451428</td>\n",
       "      <td>10.768572</td>\n",
       "      <td>7.289855</td>\n",
       "      <td>207270700</td>\n",
       "      <td>-0.007323</td>\n",
       "    </tr>\n",
       "    <tr>\n",
       "      <th>2006-10-05</th>\n",
       "      <td>10.647142</td>\n",
       "      <td>10.880000</td>\n",
       "      <td>10.590000</td>\n",
       "      <td>10.690000</td>\n",
       "      <td>7.236666</td>\n",
       "      <td>170970800</td>\n",
       "      <td>-0.008185</td>\n",
       "    </tr>\n",
       "    <tr>\n",
       "      <th>2006-10-06</th>\n",
       "      <td>10.631429</td>\n",
       "      <td>10.720000</td>\n",
       "      <td>10.544286</td>\n",
       "      <td>10.602858</td>\n",
       "      <td>7.177672</td>\n",
       "      <td>116739700</td>\n",
       "      <td>0.005509</td>\n",
       "    </tr>\n",
       "  </tbody>\n",
       "</table>\n",
       "</div>"
      ],
      "text/plain": [
       "                 Open       High        Low      Close  Adj Close     Volume  \\\n",
       "Date                                                                           \n",
       "2006-10-02  10.728572  10.838572  10.614285  10.694285   7.239566  178159800   \n",
       "2006-10-03  10.635715  10.707143  10.455714  10.582857   7.164135  197677200   \n",
       "2006-10-04  10.585714  10.780000  10.451428  10.768572   7.289855  207270700   \n",
       "2006-10-05  10.647142  10.880000  10.590000  10.690000   7.236666  170970800   \n",
       "2006-10-06  10.631429  10.720000  10.544286  10.602858   7.177672  116739700   \n",
       "\n",
       "            LogReturn  \n",
       "Date                   \n",
       "2006-10-02  -0.010474  \n",
       "2006-10-03   0.017396  \n",
       "2006-10-04  -0.007323  \n",
       "2006-10-05  -0.008185  \n",
       "2006-10-06   0.005509  "
      ]
     },
     "execution_count": 23,
     "metadata": {},
     "output_type": "execute_result"
    }
   ],
   "source": [
    "aapl['LogReturn'] = np.log(aapl['Close']).shift(-1) - np.log(aapl['Close'])\n",
    "aapl.head()"
   ]
  },
  {
   "cell_type": "markdown",
   "metadata": {},
   "source": [
    "The histogram of a return is symmetric and bell shaped, which is very similar to normal distribution. "
   ]
  },
  {
   "cell_type": "code",
   "execution_count": 24,
   "metadata": {},
   "outputs": [
    {
     "data": {
      "text/plain": [
       "<Axes: >"
      ]
     },
     "execution_count": 24,
     "metadata": {},
     "output_type": "execute_result"
    },
    {
     "data": {
      "image/png": "[encoded data removed]",
      "text/plain": [
       "<Figure size 432x288 with 1 Axes>"
      ]
     },
     "metadata": {
      "needs_background": "light"
     },
     "output_type": "display_data"
    }
   ],
   "source": [
    "aapl['LogReturn'].hist(bins=50)"
   ]
  },
  {
   "cell_type": "markdown",
   "metadata": {},
   "source": [
    "Using scipy which is a scientific computation package of python, we can get density function and a cumulative distribution function. \n",
    "\n",
    "norm.pdf where a given density for each possible value of a normal random variable. \n",
    "\n",
    "In fact normal random variable can take values from positive infinity to negative infinity. In Python code here, we get the density between -4 and 4 for simplicity. \n",
    "\n",
    "Two parameters 0, 1 in norm.pdf gives the mean and the standard deviation of a normal random variable. \n",
    "\n",
    "This normal random variable is also called a standard normal random variable, and its distribution is also called z-distribution. \n",
    "\n",
    "You can change these two values in order to get a different normal variables. \n",
    "\n",
    "Because, the density functions of a normal variables are only related to their mean and their variance. \n",
    "\n",
    "We also can get a cumulative distribution function, or in short a CDF which outputs the probability for the area, and lower side of each possible value. \n",
    "\n",
    "On the left side of this slide is the graph for normal density, symmetric with a mean and symmetric center. \n",
    "\n",
    "It is also bell shaped. "
   ]
  },
  {
   "cell_type": "code",
   "execution_count": 26,
   "metadata": {},
   "outputs": [],
   "source": [
    "density_2 = pd.DataFrame()\n",
    "\n",
    "# In fact normal random variable can take values from positive infinity to negative infinity. \n",
    "# In Python code here, we get the density between -4 and 4 for simplicity. \n",
    "density_2['x'] = np.arange(-4,4,0.001)\n",
    "\n",
    "# Two parameters 0, 1 in norm.pdf gives the mean and the standard deviation of a normal random variable. \n",
    "# This normal random variable is also called a standard normal random variable, and its distribution is also called z-distribution. \n",
    "# You can change these two values in order to get a different normal variables. \n",
    "density_2['pdf'] = norm.pdf(density_2['x'],0,1) # get pdf\n",
    "density_2['cdf'] = norm.cdf(density_2['x'],0,1) # get cdf\n",
    "\n",
    "# Because, the density functions of a normal variables are only related to their mean and their variance. \n",
    "# We also can get a cumulative distribution function, or in short a CDF which outputs the probability for the area, \n",
    "# and lower side of each possible value. On the left side of this slide is the graph for normal\n"
   ]
  },
  {
   "cell_type": "markdown",
   "metadata": {},
   "source": [
    "We also can get a cumulative distribution function, or in short a CDF which outputs the probability for the area, and lower side of each possible value. On the left side of this slide is the graph for normal density, symmetric with a mean and symmetric center. It is also bell shaped. On the right side that is cumulative distribution function, where x takes large values. The cumulative probability will approach 1. We can model daily stock return using normal distribution. We do not know the real mean and standard deviation of this normal random variable. We have a large collection of data return from historic data. We can compute the mean and the standard deviation in this collection. They are not the same as those of normal variable, but close enough, as this shown on the right. Then, what is the chance data loss can be more than 5%? First, we will plot the"
   ]
  },
  {
   "cell_type": "code",
   "execution_count": 27,
   "metadata": {},
   "outputs": [
    {
     "data": {
      "text/plain": [
       "[<matplotlib.lines.Line2D at 0x197ba839670>]"
      ]
     },
     "execution_count": 27,
     "metadata": {},
     "output_type": "execute_result"
    },
    {
     "data": {
      "image/png": "[encoded data removed]",
      "text/plain": [
       "<Figure size 432x288 with 1 Axes>"
      ]
     },
     "metadata": {
      "needs_background": "light"
     },
     "output_type": "display_data"
    }
   ],
   "source": [
    "plt.plot(density_2['x'],density_2['pdf'])"
   ]
  },
  {
   "cell_type": "markdown",
   "metadata": {},
   "source": [
    "Because, the density functions of a normal variables are only related to their mean and their variance. \n",
    "\n",
    "We also can get a cumulative distribution function, or in short a CDF which outputs the probability for the area, and lower side of each possible value."
   ]
  },
  {
   "cell_type": "code",
   "execution_count": 28,
   "metadata": {},
   "outputs": [
    {
     "data": {
      "text/plain": [
       "[<matplotlib.lines.Line2D at 0x197baa938b0>]"
      ]
     },
     "execution_count": 28,
     "metadata": {},
     "output_type": "execute_result"
    },
    {
     "data": {
      "image/png": "[encoded data removed]",
      "text/plain": [
       "<Figure size 432x288 with 1 Axes>"
      ]
     },
     "metadata": {
      "needs_background": "light"
     },
     "output_type": "display_data"
    }
   ],
   "source": [
    "plt.plot(density_2['x'],density_2['cdf'])"
   ]
  },
  {
   "cell_type": "code",
   "execution_count": 25,
   "metadata": {},
   "outputs": [
    {
     "data": {
      "image/png": "[encoded data removed]",
      "text/plain": [
       "<Figure size 1080x576 with 1 Axes>"
      ]
     },
     "metadata": {
      "needs_background": "light"
     },
     "output_type": "display_data"
    }
   ],
   "source": [
    "mu_aapl = aapl['LogReturn'].mean()\n",
    "sigma_aapl = aapl['LogReturn'].std(ddof=1)\n",
    "\n",
    "density_aapl = pd.DataFrame()\n",
    "density_aapl['x'] = np.arange(aapl['LogReturn'].min()-0.01, aapl['LogReturn'].max()+0.01, 0.001)\n",
    "density_aapl['pdf'] = norm.pdf(density_aapl['x'], mu_aapl, sigma_aapl)\n",
    "\n",
    "aapl['LogReturn'].hist(bins=50, figsize=(15, 8))\n",
    "plt.plot(density_aapl['x'], density_aapl['pdf'], color='red')\n",
    "plt.show()"
   ]
  },
  {
   "cell_type": "code",
   "execution_count": 36,
   "metadata": {},
   "outputs": [
    {
     "data": {
      "text/html": [
       "<div>\n",
       "<style scoped>\n",
       "    .dataframe tbody tr th:only-of-type {\n",
       "        vertical-align: middle;\n",
       "    }\n",
       "\n",
       "    .dataframe tbody tr th {\n",
       "        vertical-align: top;\n",
       "    }\n",
       "\n",
       "    .dataframe thead th {\n",
       "        text-align: right;\n",
       "    }\n",
       "</style>\n",
       "<table border=\"1\" class=\"dataframe\">\n",
       "  <thead>\n",
       "    <tr style=\"text-align: right;\">\n",
       "      <th></th>\n",
       "      <th>Open</th>\n",
       "      <th>High</th>\n",
       "      <th>Low</th>\n",
       "      <th>Close</th>\n",
       "      <th>Adj Close</th>\n",
       "      <th>Volume</th>\n",
       "      <th>LogReturn</th>\n",
       "    </tr>\n",
       "    <tr>\n",
       "      <th>Date</th>\n",
       "      <th></th>\n",
       "      <th></th>\n",
       "      <th></th>\n",
       "      <th></th>\n",
       "      <th></th>\n",
       "      <th></th>\n",
       "      <th></th>\n",
       "    </tr>\n",
       "  </thead>\n",
       "  <tbody>\n",
       "    <tr>\n",
       "      <th>2006-10-02</th>\n",
       "      <td>10.728572</td>\n",
       "      <td>10.838572</td>\n",
       "      <td>10.614285</td>\n",
       "      <td>10.694285</td>\n",
       "      <td>7.239566</td>\n",
       "      <td>178159800</td>\n",
       "      <td>-0.010474</td>\n",
       "    </tr>\n",
       "    <tr>\n",
       "      <th>2006-10-03</th>\n",
       "      <td>10.635715</td>\n",
       "      <td>10.707143</td>\n",
       "      <td>10.455714</td>\n",
       "      <td>10.582857</td>\n",
       "      <td>7.164135</td>\n",
       "      <td>197677200</td>\n",
       "      <td>0.017396</td>\n",
       "    </tr>\n",
       "    <tr>\n",
       "      <th>2006-10-04</th>\n",
       "      <td>10.585714</td>\n",
       "      <td>10.780000</td>\n",
       "      <td>10.451428</td>\n",
       "      <td>10.768572</td>\n",
       "      <td>7.289855</td>\n",
       "      <td>207270700</td>\n",
       "      <td>-0.007323</td>\n",
       "    </tr>\n",
       "    <tr>\n",
       "      <th>2006-10-05</th>\n",
       "      <td>10.647142</td>\n",
       "      <td>10.880000</td>\n",
       "      <td>10.590000</td>\n",
       "      <td>10.690000</td>\n",
       "      <td>7.236666</td>\n",
       "      <td>170970800</td>\n",
       "      <td>-0.008185</td>\n",
       "    </tr>\n",
       "    <tr>\n",
       "      <th>2006-10-06</th>\n",
       "      <td>10.631429</td>\n",
       "      <td>10.720000</td>\n",
       "      <td>10.544286</td>\n",
       "      <td>10.602858</td>\n",
       "      <td>7.177672</td>\n",
       "      <td>116739700</td>\n",
       "      <td>0.005509</td>\n",
       "    </tr>\n",
       "  </tbody>\n",
       "</table>\n",
       "</div>"
      ],
      "text/plain": [
       "                 Open       High        Low      Close  Adj Close     Volume  \\\n",
       "Date                                                                           \n",
       "2006-10-02  10.728572  10.838572  10.614285  10.694285   7.239566  178159800   \n",
       "2006-10-03  10.635715  10.707143  10.455714  10.582857   7.164135  197677200   \n",
       "2006-10-04  10.585714  10.780000  10.451428  10.768572   7.289855  207270700   \n",
       "2006-10-05  10.647142  10.880000  10.590000  10.690000   7.236666  170970800   \n",
       "2006-10-06  10.631429  10.720000  10.544286  10.602858   7.177672  116739700   \n",
       "\n",
       "            LogReturn  \n",
       "Date                   \n",
       "2006-10-02  -0.010474  \n",
       "2006-10-03   0.017396  \n",
       "2006-10-04  -0.007323  \n",
       "2006-10-05  -0.008185  \n",
       "2006-10-06   0.005509  "
      ]
     },
     "execution_count": 36,
     "metadata": {},
     "output_type": "execute_result"
    }
   ],
   "source": [
    "aapl.head()"
   ]
  },
  {
   "cell_type": "code",
   "execution_count": 29,
   "metadata": {},
   "outputs": [],
   "source": [
    "denApp =  pd.DataFrame()\n",
    "denApp['x'] = np.arange(-0.1,0.1,0.001)\n",
    "denApp['pdf'] = norm.pdf(denApp['x'],mu_aapl,sigma_aapl)"
   ]
  },
  {
   "cell_type": "markdown",
   "metadata": {},
   "source": [
    "We have a large collection of data return from historic data. \n",
    "\n",
    "We can compute the mean and the standard deviation in this collection. They are not the same as those of normal variable, but close enough."
   ]
  },
  {
   "cell_type": "code",
   "execution_count": 38,
   "metadata": {},
   "outputs": [
    {
     "name": "stdout",
     "output_type": "stream",
     "text": [
      "0.000975467759150088 0.020045447615854962\n"
     ]
    }
   ],
   "source": [
    "mu_appl_mean = aapl['LogReturn'].mean()\n",
    "sigma_appl_ = aapl['LogReturn'].std(ddof=1)\n",
    "print(mu_appl_mean,sigma_appl_)"
   ]
  },
  {
   "cell_type": "code",
   "execution_count": 31,
   "metadata": {},
   "outputs": [
    {
     "name": "stdout",
     "output_type": "stream",
     "text": [
      "The Probability is  0.005495344250959507\n"
     ]
    }
   ],
   "source": [
    "# probability that the stock price of microsoft will drop over 5% in a day\n",
    "prob_return_aapl = norm.cdf(-0.05, mu_aapl, sigma_aapl)\n",
    "print('The Probability is ', prob_return_aapl)"
   ]
  },
  {
   "cell_type": "code",
   "execution_count": 34,
   "metadata": {},
   "outputs": [
    {
     "name": "stdout",
     "output_type": "stream",
     "text": [
      "The Probability is  0.00017118482608677866\n"
     ]
    }
   ],
   "source": [
    "# probability that the stock price of microsoft will drop over 10% in a day\n",
    "prob_return_aapl_10 = norm.cdf(-0.10, mu_aapl, sigma_aapl)\n",
    "print('The Probability is ', prob_return1)"
   ]
  },
  {
   "cell_type": "code",
   "execution_count": 42,
   "metadata": {},
   "outputs": [
    {
     "data": {
      "text/plain": [
       "<matplotlib.collections.PolyCollection at 0x197bd622a60>"
      ]
     },
     "execution_count": 42,
     "metadata": {},
     "output_type": "execute_result"
    },
    {
     "data": {
      "image/png": "[encoded data removed]",
      "text/plain": [
       "<Figure size 432x288 with 1 Axes>"
      ]
     },
     "metadata": {
      "needs_background": "light"
     },
     "output_type": "display_data"
    }
   ],
   "source": [
    "plt.ylim(0,20)\n",
    "plt.plot(denApp['x'],denApp['pdf'])\n",
    "# Fill the area under the curve\n",
    "plt.fill_between(\n",
    "    x=np.arange(-0.1, 0.05, 0.0001),\n",
    "    y1=0,\n",
    "    y2=norm.pdf(np.arange(-0.1, 0.05, 0.0001), mu, sigma),\n",
    "    facecolor='pink',\n",
    "    alpha=0.5\n",
    ")"
   ]
  },
  {
   "cell_type": "markdown",
   "metadata": {},
   "source": [
    "### Calculate the probability of the stock price will drop over a certain percentage in a year"
   ]
  },
  {
   "cell_type": "code",
   "execution_count": 43,
   "metadata": {},
   "outputs": [
    {
     "name": "stdout",
     "output_type": "stream",
     "text": [
      "The probability of dropping over 40% in 220 days is  0.0029123633133305506\n"
     ]
    }
   ],
   "source": [
    "# drop over 40% in 220 days\n",
    "mu220 = 220*mu\n",
    "sigma220 = (220**0.5) * sigma\n",
    "print('The probability of dropping over 40% in 220 days is ', norm.cdf(-0.4, mu220, sigma220))"
   ]
  },
  {
   "cell_type": "code",
   "execution_count": 45,
   "metadata": {},
   "outputs": [
    {
     "name": "stdout",
     "output_type": "stream",
     "text": [
      "The probability of dropping over 20% in 220 days is  9.29228415841232e-46\n"
     ]
    }
   ],
   "source": [
    "# drop over 20% in 220 days\n",
    "mu220 = 220*mu\n",
    "sigma220 = (220**0.5) * sigma\n",
    "drop20 = norm.cdf(-0.20, mu, sigma)\n",
    "print('The probability of dropping over 20% in 220 days is ', drop20)"
   ]
  },
  {
   "cell_type": "markdown",
   "metadata": {},
   "source": [
    "## Calculate Value at risk (VaR)"
   ]
  },
  {
   "cell_type": "code",
   "execution_count": 46,
   "metadata": {},
   "outputs": [
    {
     "name": "stdout",
     "output_type": "stream",
     "text": [
      "Single day value at risk  -0.02252336240706501\n"
     ]
    }
   ],
   "source": [
    "# Value at risk(VaR)\n",
    "VaR = norm.ppf(0.05, mu, sigma)\n",
    "print('Single day value at risk ', VaR)"
   ]
  },
  {
   "cell_type": "code",
   "execution_count": 47,
   "metadata": {},
   "outputs": [
    {
     "name": "stdout",
     "output_type": "stream",
     "text": [
      "5% quantile  -0.02252336240706501\n",
      "95% quantile  0.02416382537931104\n"
     ]
    }
   ],
   "source": [
    "# Quatile \n",
    "# 5% quantile\n",
    "print('5% quantile ', norm.ppf(0.05, mu, sigma))\n",
    "# 95% quantile\n",
    "print('95% quantile ', norm.ppf(0.95, mu, sigma))"
   ]
  },
  {
   "cell_type": "code",
   "execution_count": 48,
   "metadata": {},
   "outputs": [
    {
     "name": "stdout",
     "output_type": "stream",
     "text": [
      "25% quantile  -0.008752057838414963\n",
      "75% quantile  0.01039252081066101\n"
     ]
    }
   ],
   "source": [
    "# This is your turn to calcuate the 25% and 75% Quantile of the return\n",
    "# 25% quantile\n",
    "q25 = norm.ppf(0.25, mu, sigma)\n",
    "print('25% quantile ', q25)\n",
    "# 75% quantile\n",
    "q75 = norm.ppf(0.75, mu, sigma)\n",
    "print('75% quantile ', q75)"
   ]
  },
  {
   "cell_type": "markdown",
   "metadata": {},
   "source": [
    "Roll two dice and X is the sum of faces values. If we roll them 5 times and get 2,3,4,5,6. What is true of X?\n",
    "- X is a random variable\n",
    "\n",
    "Roll two dice and X is the sum of faces values. If we roll them 5 times and get 2,3,4,5,6. What do we know about X?\n",
    "- We have 5 observations of X\n",
    "\n",
    "Roll two dice and X is the sum of faces values. If we roll them 5 times and get 2,3,4,5,6. X is a __ random variable.\n",
    "- discrete\n",
    "\n",
    "Why do we use relative frequency instead of frequency?\n",
    "- Relative frequency can be used to compare the ratio of values between difference collections with difference number of values\n",
    "\n",
    "What can we say about relative frequency when we have large number of trials?\n",
    "- Relative frequency becomes approximately the distribution of the corresponding random variable"
   ]
  },
  {
   "cell_type": "markdown",
   "metadata": {},
   "source": [
    "What is the notion of  \"95% Value at Risk\" ?\n",
    "- 95% VaR measures the amount of investment you can lose, at the worst 5% scenario\n",
    "\n",
    "Given a probability density function, f(x) = 1/100, what is the probability P(10<X<20), where X~Uniform[0, 100]?\n",
    "- (20- 10) * 1/100\n",
    "\n",
    "What methods should we use to get the cdf and pdf of normal distribution?\n",
    "- norm.cdf() and norm.pdf() from scipy.stats\n",
    "\n",
    "Which additional library should we import when we want to calculate log daily return specifically?\n",
    "- Numpy\n",
    "\n",
    "What is the distribution of stock returns suggested by Fama and French in general?\n",
    "- Close to normal distribution but with fat tail"
   ]
  },
  {
   "cell_type": "markdown",
   "metadata": {},
   "source": []
  },
  {
   "cell_type": "markdown",
   "metadata": {},
   "source": [
    "The \"95% Value at Risk\" (VaR) is a commonly used financial risk measurement that provides an estimate of the maximum potential loss an investment or portfolio could experience over a specified time horizon with a certain level of confidence. In the context of the \"95% VaR,\" the confidence level is 95%.\n",
    "\n",
    "In other words, the 95% VaR represents the potential loss that is not expected to be exceeded with a probability of 95%. It provides an upper limit on the potential losses that an investment or portfolio might face, given the historical distribution of returns or price movements.\n",
    "\n",
    "Here's an example to illustrate the concept:\n",
    "\n",
    "Let's say you have a portfolio of investments, and you calculate the 95% VaR to be $10,000 over a one-week time horizon. This means that there is a 95% probability that your portfolio's losses will not exceed $10,000 within the next week.\n",
    "\n",
    "In mathematical terms, the 95% VaR can be defined as follows:\n",
    "\n",
    "\\[ \\text{95% VaR} = \\text{Percentile}_{95}(\\text{Portfolio Returns}) \\]\n",
    "\n",
    "Where:\n",
    "- \\(\\text{Percentile}_{95}(\\text{Portfolio Returns})\\) is the value below which 95% of the historical portfolio returns fall.\n",
    "\n",
    "To calculate the 95% VaR, you need a historical dataset of returns or price movements for the investment or portfolio. You sort this dataset in ascending order and then find the value at the 5th percentile (since you're interested in the worst 5% of outcomes to represent the potential losses).\n",
    "\n",
    "It's important to note that VaR has its limitations. It assumes that historical patterns will repeat, which might not hold true during times of extreme market volatility or unprecedented events. Additionally, VaR doesn't provide information about the potential magnitude of losses beyond the specified confidence level. For this reason, it's often used alongside other risk measures and stress-testing techniques.\n",
    "\n",
    "In summary, the \"95% Value at Risk\" is a risk management tool that quantifies the potential loss an investment or portfolio might experience with a 95% level of confidence over a specific time horizon based on historical data."
   ]
  },
  {
   "cell_type": "code",
   "execution_count": null,
   "metadata": {},
   "outputs": [],
   "source": []
  }
 ],
 "metadata": {
  "kernelspec": {
   "display_name": "Python 3",
   "language": "python",
   "name": "python3"
  },
  "language_info": {
   "codemirror_mode": {
    "name": "ipython",
    "version": 3
   },
   "file_extension": ".py",
   "mimetype": "text/x-python",
   "name": "python",
   "nbconvert_exporter": "python",
   "pygments_lexer": "ipython3",
   "version": "3.9.7"
  },
  "orig_nbformat": 4
 },
 "nbformat": 4,
 "nbformat_minor": 2
}
