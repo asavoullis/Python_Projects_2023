{
 "cells": [
  {
   "cell_type": "markdown",
   "metadata": {},
   "source": [
    "# Dice Analysis"
   ]
  },
  {
   "cell_type": "markdown",
   "metadata": {},
   "source": [
    "One of the key new features we added is a moving average. \n",
    "\n",
    "After that, we combine what we have learned and developed our first simple trading strategy. \n",
    "\n",
    "In this simple trading strategy, we buy and hold one share of stock. \n",
    "\n",
    "If the 10 day moving average, MA10, is larger than 50 day moving average, MA50, which we called long one share of stock, then we do not do anything if MA50 is less than MA10. \n",
    "\n",
    "The result looks promising. \n",
    "\n",
    "But as you can see, there are two points whereby we lose money and financial analysis, we will try our best to minimize the loss. \n",
    "\n",
    "What do we want to know is, how to compute the chance of bankruptcy if I apply this strategy? Am I lucky enough, so that we can avoid this in the next two years? \n",
    "\n",
    "The simple trading strategy is built on two variables, moving average 10 and moving average 50. \n",
    "\n",
    "In statistics, they are called random variables. \n",
    "\n",
    "This is where we need to apply some statistical knowledge by asking, what is a probability rule? \n",
    "\n",
    "Or more formally speaking, what is in distribution of these two random variables, MA10 and MA50? \n",
    "\n",
    "Identify important variables is important in helping us making better prediction and decisions, not just in financial, but in other contexts as well. \n",
    "\n",
    "In Latin America, one popular method to verify income qualification is called the Proxy Means Test or PMT. \n",
    "\n",
    "PMT identifies new variables in the model, which are family observable household attributes like the material of their walls, and the ceilings or the assets found in the home to qualify them and predict their level of need. \n",
    "There is also another success story in small lending industry. Many people struggle to get loans due to insufficient and non-existing credit histories. Unfortunately, this population is often taken advantage of by untrustworthy lenders. \n",
    "\n",
    "There is a company called Home Credit, who makes use of variety and alternative external variables, including telecom company bills and other transnational information to predict their clients' repayment abilities. \n",
    "\n",
    "These new variables tend to be very important in new prediction model. \n",
    "\n",
    "This example gave us enough incentives to explore some basic concepts and facts about random variables. \n",
    "\n",
    "- What random variable is?  \n",
    "\n",
    "- Describe the distribution of random variables, distribution helps identify extreme values of events. For example, it is used for risk management in financial context. After knowing the distribution random variables, I will apply this concept to measure the risk of investing money in Apple stock. \n"
   ]
  },
  {
   "cell_type": "code",
   "execution_count": 1,
   "metadata": {},
   "outputs": [],
   "source": [
    "import numpy as np\n",
    "import pandas as pd\n",
    "import matplotlib.pyplot as plt\n",
    "import statsmodels\n",
    "# import os"
   ]
  },
  {
   "cell_type": "markdown",
   "metadata": {},
   "source": [
    "# Roll two dice for multiple times"
   ]
  },
  {
   "cell_type": "markdown",
   "metadata": {},
   "source": [
    "## Constructing the dataframe and the algorthm to mimic the roll of a dict"
   ]
  },
  {
   "cell_type": "code",
   "execution_count": 2,
   "metadata": {},
   "outputs": [
    {
     "name": "stdout",
     "output_type": "stream",
     "text": [
      "Sum of dice is 4\n"
     ]
    }
   ],
   "source": [
    "# Using Python, we can mimic this game. Variable die has six values, one to six, with equal chance which stands for the real die.\n",
    "die = pd.DataFrame([1, 2, 3, 4, 5, 6])\n",
    "sum_of_dice = die.sample(2, replace=True).sum().loc[0]\n",
    "print('Sum of dice is', sum_of_dice)  \n",
    "\n",
    "# you may get different outcomes as we now mimic the result of rolling 2 dice, but the range must be limited between 2 and 12. "
   ]
  },
  {
   "cell_type": "code",
   "execution_count": 3,
   "metadata": {},
   "outputs": [
    {
     "data": {
      "text/html": [
       "<div>\n",
       "<style scoped>\n",
       "    .dataframe tbody tr th:only-of-type {\n",
       "        vertical-align: middle;\n",
       "    }\n",
       "\n",
       "    .dataframe tbody tr th {\n",
       "        vertical-align: top;\n",
       "    }\n",
       "\n",
       "    .dataframe thead th {\n",
       "        text-align: right;\n",
       "    }\n",
       "</style>\n",
       "<table border=\"1\" class=\"dataframe\">\n",
       "  <thead>\n",
       "    <tr style=\"text-align: right;\">\n",
       "      <th></th>\n",
       "      <th>0</th>\n",
       "    </tr>\n",
       "  </thead>\n",
       "  <tbody>\n",
       "    <tr>\n",
       "      <th>0</th>\n",
       "      <td>1</td>\n",
       "    </tr>\n",
       "    <tr>\n",
       "      <th>1</th>\n",
       "      <td>2</td>\n",
       "    </tr>\n",
       "    <tr>\n",
       "      <th>2</th>\n",
       "      <td>3</td>\n",
       "    </tr>\n",
       "    <tr>\n",
       "      <th>3</th>\n",
       "      <td>4</td>\n",
       "    </tr>\n",
       "    <tr>\n",
       "      <th>4</th>\n",
       "      <td>5</td>\n",
       "    </tr>\n",
       "    <tr>\n",
       "      <th>5</th>\n",
       "      <td>6</td>\n",
       "    </tr>\n",
       "  </tbody>\n",
       "</table>\n",
       "</div>"
      ],
      "text/plain": [
       "   0\n",
       "0  1\n",
       "1  2\n",
       "2  3\n",
       "3  4\n",
       "4  5\n",
       "5  6"
      ]
     },
     "execution_count": 3,
     "metadata": {},
     "output_type": "execute_result"
    }
   ],
   "source": [
    "die"
   ]
  },
  {
   "cell_type": "code",
   "execution_count": 4,
   "metadata": {},
   "outputs": [
    {
     "data": {
      "text/html": [
       "<div>\n",
       "<style scoped>\n",
       "    .dataframe tbody tr th:only-of-type {\n",
       "        vertical-align: middle;\n",
       "    }\n",
       "\n",
       "    .dataframe tbody tr th {\n",
       "        vertical-align: top;\n",
       "    }\n",
       "\n",
       "    .dataframe thead th {\n",
       "        text-align: right;\n",
       "    }\n",
       "</style>\n",
       "<table border=\"1\" class=\"dataframe\">\n",
       "  <thead>\n",
       "    <tr style=\"text-align: right;\">\n",
       "      <th></th>\n",
       "      <th>0</th>\n",
       "    </tr>\n",
       "  </thead>\n",
       "  <tbody>\n",
       "    <tr>\n",
       "      <th>3</th>\n",
       "      <td>4</td>\n",
       "    </tr>\n",
       "    <tr>\n",
       "      <th>1</th>\n",
       "      <td>2</td>\n",
       "    </tr>\n",
       "  </tbody>\n",
       "</table>\n",
       "</div>"
      ],
      "text/plain": [
       "   0\n",
       "3  4\n",
       "1  2"
      ]
     },
     "execution_count": 4,
     "metadata": {},
     "output_type": "execute_result"
    }
   ],
   "source": [
    "# This part uses the sample() method of the die object to randomly select one value from the die with replacement. \n",
    "# The replace=True argument indicates that the value is selected with replacement, \n",
    "# meaning that the same value can be selected multiple times.\n",
    "result = die.sample(2, replace=True)\n",
    "# 2 because we are rolling 2 die objects\n",
    "# we get index and value (column name is 0)\n",
    "result"
   ]
  },
  {
   "cell_type": "code",
   "execution_count": 5,
   "metadata": {},
   "outputs": [
    {
     "data": {
      "text/plain": [
       "11"
      ]
     },
     "execution_count": 5,
     "metadata": {},
     "output_type": "execute_result"
    }
   ],
   "source": [
    "# add them up using .sum() and get only the 2nd column (ignore the index)\n",
    "result = die.sample(2, replace=True).sum().loc[0]\n",
    "result"
   ]
  },
  {
   "cell_type": "markdown",
   "metadata": {},
   "source": [
    "In this case X which we denote as sum is a random variable\n",
    "\n",
    "Range/collection of outcomes: is from 2 to 12 (it is not a random variable).\n",
    "\n",
    "They are realised or observed outcomes of X.\n",
    "Outcomes are basically the results of the game.\n",
    "\n",
    "In these case they are discrete random variables\n",
    "\n",
    "Whereas stock prices are continuous random variables"
   ]
  },
  {
   "cell_type": "code",
   "execution_count": 6,
   "metadata": {},
   "outputs": [
    {
     "data": {
      "text/plain": [
       "[7, 7, 6, 12, 5, 5, 8, 6, 8, 7]"
      ]
     },
     "execution_count": 6,
     "metadata": {},
     "output_type": "execute_result"
    }
   ],
   "source": [
    "trial = 50 \n",
    "result = [die.sample(2, replace=True).sum().loc[0] for i in range(trial)]\n",
    "result[:10]\n",
    "\n"
   ]
  },
  {
   "cell_type": "code",
   "execution_count": 7,
   "metadata": {},
   "outputs": [
    {
     "name": "stdout",
     "output_type": "stream",
     "text": [
      "Sum of three dice is 15\n"
     ]
    }
   ],
   "source": [
    "# Let's replace the none with the code of rolling three dice, instead of two\n",
    "\n",
    "np.random.seed(1)  # This is for checking answer, do NOT modify this line of code\n",
    "\n",
    "#Modify the code, replace the None\n",
    "sum_of_three_dice = die.sample(3, replace=True).sum().loc[0]\n",
    "print('Sum of three dice is', sum_of_three_dice)"
   ]
  },
  {
   "cell_type": "markdown",
   "metadata": {},
   "source": [
    "## Frequency and Distribution\n",
    "\n",
    "Relative Frequency of observed outcomes \n",
    "\n",
    "\n",
    ".value_counts() - frequency"
   ]
  },
  {
   "cell_type": "code",
   "execution_count": 8,
   "metadata": {},
   "outputs": [
    {
     "name": "stdout",
     "output_type": "stream",
     "text": [
      "0\n",
      "2     4\n",
      "3     6\n",
      "4     4\n",
      "5     1\n",
      "6     7\n",
      "7     6\n",
      "8     7\n",
      "9     4\n",
      "10    6\n",
      "11    4\n",
      "12    1\n",
      "Name: count, dtype: int64\n"
     ]
    }
   ],
   "source": [
    "# This is the code for summarizing the results of sum of faces by frequency\n",
    "\n",
    "results = [die.sample(2, replace=True).sum().loc[0] for i in range(trial)]\n",
    "freq = pd.DataFrame(results)[0].value_counts()\n",
    "sort_freq = freq.sort_index() # sort index\n",
    "print(sort_freq)"
   ]
  },
  {
   "cell_type": "code",
   "execution_count": 24,
   "metadata": {},
   "outputs": [
    {
     "data": {
      "image/png": "[encoded data removed]",
      "text/plain": [
       "<Figure size 1080x576 with 1 Axes>"
      ]
     },
     "metadata": {
      "needs_background": "light"
     },
     "output_type": "display_data"
    }
   ],
   "source": [
    "#plot the bar chart base on the result\n",
    "sort_freq.plot(kind='bar', color='blue', figsize=(15, 8))\n",
    "\n",
    "plt.xlabel('Sum of Two Dice')\n",
    "plt.ylabel('Frequency')\n",
    "plt.title('Frequency Distribution of the Sum of Two Dice Rolls, 50 trials')\n",
    "plt.xticks(rotation=0)  # Set x-axis labels rotation\n",
    "\n",
    "plt.show()\n"
   ]
  },
  {
   "cell_type": "markdown",
   "metadata": {},
   "source": [
    "Lets try to use a bigger set of values \n",
    "\n",
    "Ideally we sohuld have a standard normal distribution"
   ]
  },
  {
   "cell_type": "code",
   "execution_count": 15,
   "metadata": {},
   "outputs": [
    {
     "name": "stdout",
     "output_type": "stream",
     "text": [
      "0\n",
      "2     154\n",
      "3     274\n",
      "4     434\n",
      "5     585\n",
      "6     691\n",
      "7     807\n",
      "8     692\n",
      "9     541\n",
      "10    415\n",
      "11    274\n",
      "12    133\n",
      "Name: count, dtype: int64\n"
     ]
    }
   ],
   "source": [
    "trial1 = 5000\n",
    "results1 = [die.sample(2, replace=True).sum().loc[0] for i in range(trial1)]\n",
    "freq1 = pd.DataFrame(results1)[0].value_counts()\n",
    "sort_freq1 = freq1.sort_index() # sort index\n",
    "print(sort_freq1)"
   ]
  },
  {
   "cell_type": "code",
   "execution_count": 21,
   "metadata": {},
   "outputs": [
    {
     "data": {
      "image/png": "[encoded data removed]",
      "text/plain": [
       "<Figure size 1080x576 with 1 Axes>"
      ]
     },
     "metadata": {
      "needs_background": "light"
     },
     "output_type": "display_data"
    }
   ],
   "source": [
    "# Plot a bar chart\n",
    "plt.figure(figsize=(15, 8))\n",
    "sort_freq1.plot(kind='bar', color='blue')\n",
    "\n",
    "plt.xlabel('Sum of Two Dice')\n",
    "plt.ylabel('Frequency')\n",
    "plt.title('Frequency Distribution of the Sum of Two Dice Rolls, 5000 trials')\n",
    "plt.xticks(rotation=0)  # Set x-axis labels rotation\n",
    "\n",
    "plt.show()"
   ]
  },
  {
   "cell_type": "markdown",
   "metadata": {},
   "source": [
    "## Relative Frequency\n",
    "\n",
    "\n",
    "Relative frequency refers to the proportion of times a specific outcome occurs relative to the total number of trials or observations. \n",
    "\n",
    "For example, if you roll a six-sided dice 100 times and the number 3 comes up 20 times, the relative frequency of getting a 3 would be 20/100, or 0.2 (or 20%). \n",
    "\n",
    "It's a way to quantify how often an event happens within a given set of trials, helping you understand the probability of that event occurring.\n",
    "\n",
    "Relative frequency = Number of occurrences of the Event / Total Number of Trials\n",
    "\n",
    "Relative frequency = frequency ( of getting a 3 ) / Total Number of trials"
   ]
  },
  {
   "cell_type": "code",
   "execution_count": 25,
   "metadata": {},
   "outputs": [
    {
     "data": {
      "text/plain": [
       "<Axes: xlabel='0'>"
      ]
     },
     "execution_count": 25,
     "metadata": {},
     "output_type": "execute_result"
    },
    {
     "data": {
      "image/png": "[encoded data removed]",
      "text/plain": [
       "<Figure size 1080x576 with 1 Axes>"
      ]
     },
     "metadata": {
      "needs_background": "light"
     },
     "output_type": "display_data"
    }
   ],
   "source": [
    "# Using relative frequency, we can rescale the frequency so that we can compare results from different number of trials\n",
    "relative_freq = sort_freq/trial\n",
    "relative_freq.plot(kind='bar', color='blue', figsize=(15, 8))"
   ]
  },
  {
   "cell_type": "code",
   "execution_count": null,
   "metadata": {},
   "outputs": [],
   "source": [
    "# Let us try to increase the number of trials to 10000, and see what will happen...\n",
    "trial = 10000\n",
    "results = [die.sample(2, replace=True).sum().loc[0] for i in range(trial)]\n",
    "freq = pd.DataFrame(results)[0].value_counts()\n",
    "sort_freq = freq.sort_index()\n",
    "relative_freq = sort_freq/trial"
   ]
  },
  {
   "cell_type": "code",
   "execution_count": 27,
   "metadata": {},
   "outputs": [
    {
     "data": {
      "image/png": "[encoded data removed]",
      "text/plain": [
       "<Figure size 1080x576 with 1 Axes>"
      ]
     },
     "metadata": {
      "needs_background": "light"
     },
     "output_type": "display_data"
    }
   ],
   "source": [
    "\n",
    "relative_freq.plot(kind='bar', color='blue', figsize=(15, 8))\n",
    "\n",
    "plt.xlabel('Sum of Two Dice')\n",
    "plt.ylabel('Relative Frequency')\n",
    "plt.title('Relative Frequency of the Sum of Two Dice Rolls, 10000 trials')\n",
    "plt.xticks(rotation=0)  # Set x-axis labels rotation\n",
    "\n",
    "plt.show()"
   ]
  },
  {
   "cell_type": "markdown",
   "metadata": {},
   "source": [
    "We can see that with more trials, the result looks more and more stable, and this is very close to a probability distribution. Try increasing the number of \"trial\" further (but it may take some time for Jupyter Notebook to output the result)"
   ]
  },
  {
   "cell_type": "markdown",
   "metadata": {},
   "source": [
    "## Mean and Variance \n",
    "to describe the distribution of probability\n",
    "\n",
    "----------------------\n",
    "\n",
    "\n",
    "\n",
    "**Mean (Average or Expectation):**\n",
    "$$\n",
    "\\bar{x} = \\frac{1}{n} \\sum_{i=1}^{n} x_i\n",
    "$$\n",
    "\n",
    "Mean = Sum of all values / Total number of values\n",
    "\n",
    "**Variance:**\n",
    "$$\n",
    "\\sigma^2 = \\frac{1}{n} \\sum_{i=1}^{n} (x_i - \\bar{x})^2\n",
    "$$\n",
    "\n",
    "Variance = Average of (each value - mean)^2\n",
    "\n",
    "Where:\n",
    "- \\( n \\) is the number of data points.\n",
    "- \\( x_i \\) represents the individual data points.\n",
    "- \\( \\bar{x} \\) is the mean of the data points.\n",
    "- \\( \\sigma^2 \\) is the variance of the data points.\n",
    "\n",
    "These formulas are commonly used in statistics to calculate the central tendency (mean) and the spread (variance) of a dataset.\n"
   ]
  },
  {
   "cell_type": "markdown",
   "metadata": {},
   "source": [
    "### Expectation and Variance of a distribution"
   ]
  },
  {
   "cell_type": "code",
   "execution_count": 28,
   "metadata": {},
   "outputs": [
    {
     "data": {
      "text/html": [
       "<div>\n",
       "<style scoped>\n",
       "    .dataframe tbody tr th:only-of-type {\n",
       "        vertical-align: middle;\n",
       "    }\n",
       "\n",
       "    .dataframe tbody tr th {\n",
       "        vertical-align: top;\n",
       "    }\n",
       "\n",
       "    .dataframe thead th {\n",
       "        text-align: right;\n",
       "    }\n",
       "</style>\n",
       "<table border=\"1\" class=\"dataframe\">\n",
       "  <thead>\n",
       "    <tr style=\"text-align: right;\">\n",
       "      <th></th>\n",
       "      <th>Prob</th>\n",
       "    </tr>\n",
       "  </thead>\n",
       "  <tbody>\n",
       "    <tr>\n",
       "      <th>2</th>\n",
       "      <td>0.027778</td>\n",
       "    </tr>\n",
       "    <tr>\n",
       "      <th>3</th>\n",
       "      <td>0.055556</td>\n",
       "    </tr>\n",
       "    <tr>\n",
       "      <th>4</th>\n",
       "      <td>0.083333</td>\n",
       "    </tr>\n",
       "    <tr>\n",
       "      <th>5</th>\n",
       "      <td>0.111111</td>\n",
       "    </tr>\n",
       "    <tr>\n",
       "      <th>6</th>\n",
       "      <td>0.138889</td>\n",
       "    </tr>\n",
       "    <tr>\n",
       "      <th>7</th>\n",
       "      <td>0.166667</td>\n",
       "    </tr>\n",
       "    <tr>\n",
       "      <th>8</th>\n",
       "      <td>0.138889</td>\n",
       "    </tr>\n",
       "    <tr>\n",
       "      <th>9</th>\n",
       "      <td>0.111111</td>\n",
       "    </tr>\n",
       "    <tr>\n",
       "      <th>10</th>\n",
       "      <td>0.083333</td>\n",
       "    </tr>\n",
       "    <tr>\n",
       "      <th>11</th>\n",
       "      <td>0.055556</td>\n",
       "    </tr>\n",
       "    <tr>\n",
       "      <th>12</th>\n",
       "      <td>0.027778</td>\n",
       "    </tr>\n",
       "  </tbody>\n",
       "</table>\n",
       "</div>"
      ],
      "text/plain": [
       "        Prob\n",
       "2   0.027778\n",
       "3   0.055556\n",
       "4   0.083333\n",
       "5   0.111111\n",
       "6   0.138889\n",
       "7   0.166667\n",
       "8   0.138889\n",
       "9   0.111111\n",
       "10  0.083333\n",
       "11  0.055556\n",
       "12  0.027778"
      ]
     },
     "execution_count": 28,
     "metadata": {},
     "output_type": "execute_result"
    }
   ],
   "source": [
    "# assume that we have fair dice, which means all faces will be shown with equal probability\n",
    "# then we can say we know the 'Distribtuion' of the random variable - sum_of_dice\n",
    "\n",
    "X_distri = pd.DataFrame(index=[2, 3, 4, 5, 6, 7, 8, 9, 10, 11, 12])\n",
    "X_distri['Prob'] = [1, 2, 3, 4, 5, 6, 5, 4, 3, 2, 1]\n",
    "X_distri['Prob'] = X_distri['Prob']/36\n",
    "X_distri"
   ]
  },
  {
   "cell_type": "code",
   "execution_count": 30,
   "metadata": {},
   "outputs": [
    {
     "data": {
      "text/plain": [
       "Index([2, 3, 4, 5, 6, 7, 8, 9, 10, 11, 12], dtype='int64')"
      ]
     },
     "execution_count": 30,
     "metadata": {},
     "output_type": "execute_result"
    }
   ],
   "source": [
    "X_distri.index"
   ]
  },
  {
   "cell_type": "code",
   "execution_count": 31,
   "metadata": {},
   "outputs": [
    {
     "data": {
      "text/plain": [
       "2     0.027778\n",
       "3     0.055556\n",
       "4     0.083333\n",
       "5     0.111111\n",
       "6     0.138889\n",
       "7     0.166667\n",
       "8     0.138889\n",
       "9     0.111111\n",
       "10    0.083333\n",
       "11    0.055556\n",
       "12    0.027778\n",
       "Name: Prob, dtype: float64"
      ]
     },
     "execution_count": 31,
     "metadata": {},
     "output_type": "execute_result"
    }
   ],
   "source": [
    "X_distri['Prob']"
   ]
  },
  {
   "cell_type": "code",
   "execution_count": 29,
   "metadata": {},
   "outputs": [
    {
     "name": "stdout",
     "output_type": "stream",
     "text": [
      "6.999999999999998 5.833333333333333\n"
     ]
    }
   ],
   "source": [
    "mean = pd.Series(X_distri.index * X_distri['Prob']).sum()\n",
    "var = pd.Series(((X_distri.index - mean)**2)*X_distri['Prob']).sum()\n",
    "\n",
    "#Output the mean and variance of the distribution. Mean and variance can be used to describe a distribution\n",
    "print(mean, var)"
   ]
  },
  {
   "cell_type": "markdown",
   "metadata": {},
   "source": [
    "### Empirical  mean and variance"
   ]
  },
  {
   "cell_type": "code",
   "execution_count": 33,
   "metadata": {},
   "outputs": [
    {
     "name": "stdout",
     "output_type": "stream",
     "text": [
      "7.01595 5.802885741787089\n"
     ]
    }
   ],
   "source": [
    "# if we calculate mean and variance of outcomes (with high enough number of trials, eg 20000)...\n",
    "trial = 20000\n",
    "results = [die.sample(2, replace=True).sum().loc[0] for i in range(trial)]\n",
    "\n",
    "#print the mean and variance of the 20000 trials\n",
    "results = pd.Series(results)\n",
    "print(results.mean(), results.var())"
   ]
  },
  {
   "cell_type": "markdown",
   "metadata": {},
   "source": [
    "### Continious Random Variables - Probability Density Function\n",
    "\n"
   ]
  },
  {
   "cell_type": "markdown",
   "metadata": {},
   "source": [
    "I will start with the simplest continuous random variable, which has a uniform distribution. \n",
    "\n",
    "This kind of variables takes possible values with equal chance in certain range. \n",
    "\n",
    "Here's distribution graph for uniform random variable, which takes values on zero and 100 with equal chance. The height of blue line is not a probability. \n",
    "\n",
    "It will represent the value of a density function, which is applied to compute a probability for continuous random variable in this way. \n",
    "\n",
    "The area under the density curve is the probability. \n",
    "\n",
    "Hence, the whole area between zero and 100 is equal to one because this random variable can only take a value in this range. \n",
    "\n",
    "To compute the probability for X taking value between 20 and 60, it is equivalent to get area with pink color. "
   ]
  },
  {
   "cell_type": "code",
   "execution_count": 43,
   "metadata": {},
   "outputs": [
    {
     "data": {
      "image/png": "[encoded data removed]",
      "text/plain": [
       "<Figure size 432x288 with 1 Axes>"
      ]
     },
     "metadata": {
      "needs_background": "light"
     },
     "output_type": "display_data"
    }
   ],
   "source": [
    "import matplotlib.patches as patches\n",
    "# Parameters for the uniform distribution\n",
    "low = 2   # Lower bound of the range\n",
    "high = 12  # Upper bound of the range\n",
    "\n",
    "# Create a figure and axis\n",
    "fig, ax = plt.subplots()\n",
    "\n",
    "# Create a rectangle representing the uniform distribution\n",
    "rectangle = patches.Rectangle((low, 0), high - low, 1, linewidth=1, edgecolor='b', facecolor='none')\n",
    "ax.add_patch(rectangle)\n",
    "\n",
    "# Set axis limits and labels\n",
    "ax.set_xlim(0, 14)\n",
    "ax.set_ylim(0, 1.2)\n",
    "ax.set_xlabel('Value')\n",
    "ax.set_ylabel('Density')\n",
    "\n",
    "# Set title and grid\n",
    "ax.set_title('Uniform Distribution: Equal Chance in Range')\n",
    "ax.grid(True)\n",
    "\n",
    "# Remove y-axis ticks\n",
    "ax.set_yticks([])\n",
    "\n",
    "plt.show()\n",
    "\n",
    "\n",
    "# the top line indicates the probability density function and the area below the probability"
   ]
  },
  {
   "cell_type": "code",
   "execution_count": 35,
   "metadata": {},
   "outputs": [
    {
     "data": {
      "image/png": "[encoded data removed]",
      "text/plain": [
       "<Figure size 432x288 with 1 Axes>"
      ]
     },
     "metadata": {
      "needs_background": "light"
     },
     "output_type": "display_data"
    }
   ],
   "source": [
    "# Parameters for the uniform distribution\n",
    "low = 0   # Lower bound of the range\n",
    "high = 10  # Upper bound of the range\n",
    "size = 1000  # Number of samples\n",
    "\n",
    "# Generate random samples with uniform distribution\n",
    "uniform_samples = np.random.uniform(low, high, size)\n",
    "\n",
    "# Plotting a histogram\n",
    "plt.hist(uniform_samples, bins=20, density=True, alpha=0.6, color='g')\n",
    "plt.xlabel('Value')\n",
    "plt.ylabel('Probability')\n",
    "plt.title('Uniform Distribution')\n",
    "plt.show()"
   ]
  },
  {
   "cell_type": "code",
   "execution_count": 34,
   "metadata": {},
   "outputs": [
    {
     "data": {
      "image/png": "[encoded data removed]",
      "text/plain": [
       "<Figure size 576x432 with 1 Axes>"
      ]
     },
     "metadata": {
      "needs_background": "light"
     },
     "output_type": "display_data"
    }
   ],
   "source": [
    "from scipy.stats import norm\n",
    "\n",
    "# Generate a range of x values\n",
    "x = np.linspace(-5, 5, 1000)\n",
    "\n",
    "# Calculate the PDF values for the normal distribution\n",
    "mu = 0  # mean\n",
    "sigma = 1  # standard deviation\n",
    "pdf_values = norm.pdf(x, mu, sigma)\n",
    "\n",
    "# Plot the PDF\n",
    "plt.figure(figsize=(8, 6))\n",
    "plt.plot(x, pdf_values, label=f'Normal Distribution\\n$\\mu={mu}$, $\\sigma={sigma}$')\n",
    "plt.title('Continuous Probability Density Function')\n",
    "plt.xlabel('x')\n",
    "plt.ylabel('Probability Density')\n",
    "plt.legend()\n",
    "plt.grid(True)\n",
    "plt.show()"
   ]
  }
 ],
 "metadata": {
  "kernelspec": {
   "display_name": "Python 3",
   "language": "python",
   "name": "python3"
  },
  "language_info": {
   "codemirror_mode": {
    "name": "ipython",
    "version": 3
   },
   "file_extension": ".py",
   "mimetype": "text/x-python",
   "name": "python",
   "nbconvert_exporter": "python",
   "pygments_lexer": "ipython3",
   "version": "3.9.7"
  },
  "orig_nbformat": 4
 },
 "nbformat": 4,
 "nbformat_minor": 2
}
